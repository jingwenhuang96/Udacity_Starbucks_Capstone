{
  "nbformat": 4,
  "nbformat_minor": 0,
  "metadata": {
    "kernelspec": {
      "display_name": "Python 3",
      "language": "python",
      "name": "python3"
    },
    "language_info": {
      "codemirror_mode": {
        "name": "ipython",
        "version": 3
      },
      "file_extension": ".py",
      "mimetype": "text/x-python",
      "name": "python",
      "nbconvert_exporter": "python",
      "pygments_lexer": "ipython3",
      "version": "3.6.3"
    },
    "colab": {
      "name": "Starbucks_Capstone_notebook.ipynb",
      "provenance": [],
      "collapsed_sections": [
        "YpmS_0imk2iN"
      ],
      "toc_visible": true
    }
  },
  "cells": [
    {
      "cell_type": "markdown",
      "metadata": {
        "id": "_jf3lI68k2br",
        "colab_type": "text"
      },
      "source": [
        "# Starbucks Capstone Challenge\n",
        "\n",
        "### Introduction\n",
        "\n",
        "This data set contains simulated data that mimics customer behavior on the Starbucks rewards mobile app. Once every few days, Starbucks sends out an offer to users of the mobile app. An offer can be merely an advertisement for a drink or an actual offer such as a discount or BOGO (buy one get one free). Some users might not receive any offer during certain weeks. \n",
        "\n",
        "Not all users receive the same offer, and that is the challenge to solve with this data set.\n",
        "\n",
        "Your task is to combine transaction, demographic and offer data to determine which demographic groups respond best to which offer type. This data set is a simplified version of the real Starbucks app because the underlying simulator only has one product whereas Starbucks actually sells dozens of products.\n",
        "\n",
        "Every offer has a validity period before the offer expires. As an example, a BOGO offer might be valid for only 5 days. You'll see in the data set that informational offers have a validity period even though these ads are merely providing information about a product; for example, if an informational offer has 7 days of validity, you can assume the customer is feeling the influence of the offer for 7 days after receiving the advertisement.\n",
        "\n",
        "You'll be given transactional data showing user purchases made on the app including the timestamp of purchase and the amount of money spent on a purchase. This transactional data also has a record for each offer that a user receives as well as a record for when a user actually views the offer. There are also records for when a user completes an offer. \n",
        "\n",
        "Keep in mind as well that someone using the app might make a purchase through the app without having received an offer or seen an offer.\n",
        "\n",
        "### Example\n",
        "\n",
        "To give an example, a user could receive a discount offer buy 10 dollars get 2 off on Monday. The offer is valid for 10 days from receipt. If the customer accumulates at least 10 dollars in purchases during the validity period, the customer completes the offer.\n",
        "\n",
        "However, there are a few things to watch out for in this data set. Customers do not opt into the offers that they receive; in other words, a user can receive an offer, never actually view the offer, and still complete the offer. For example, a user might receive the \"buy 10 dollars get 2 dollars off offer\", but the user never opens the offer during the 10 day validity period. The customer spends 15 dollars during those ten days. There will be an offer completion record in the data set; however, the customer was not influenced by the offer because the customer never viewed the offer.\n",
        "\n",
        "### Cleaning\n",
        "\n",
        "This makes data cleaning especially important and tricky.\n",
        "\n",
        "You'll also want to take into account that some demographic groups will make purchases even if they don't receive an offer. From a business perspective, if a customer is going to make a 10 dollar purchase without an offer anyway, you wouldn't want to send a buy 10 dollars get 2 dollars off offer. You'll want to try to assess what a certain demographic group will buy when not receiving any offers.\n",
        "\n",
        "### Final Advice\n",
        "\n",
        "Because this is a capstone project, you are free to analyze the data any way you see fit. For example, you could build a machine learning model that predicts how much someone will spend based on demographics and offer type. Or you could build a model that predicts whether or not someone will respond to an offer. Or, you don't need to build a machine learning model at all. You could develop a set of heuristics that determine what offer you should send to each customer (i.e., 75 percent of women customers who were 35 years old responded to offer A vs 40 percent from the same demographic to offer B, so send offer A)."
      ]
    },
    {
      "cell_type": "markdown",
      "metadata": {
        "id": "7ZN8XrePk2bs",
        "colab_type": "text"
      },
      "source": [
        "# Data Sets\n",
        "\n",
        "The data is contained in three files:\n",
        "\n",
        "* portfolio.json - containing offer ids and meta data about each offer (duration, type, etc.)\n",
        "* profile.json - demographic data for each customer\n",
        "* transcript.json - records for transactions, offers received, offers viewed, and offers completed\n",
        "\n",
        "Here is the schema and explanation of each variable in the files:\n",
        "\n",
        "**portfolio.json**\n",
        "* id (string) - offer id\n",
        "* offer_type (string) - type of offer ie BOGO, discount, informational\n",
        "* difficulty (int) - minimum required spend to complete an offer\n",
        "* reward (int) - reward given for completing an offer\n",
        "* duration (int) - time for offer to be open, in days\n",
        "* channels (list of strings)\n",
        "\n",
        "**profile.json**\n",
        "* age (int) - age of the customer \n",
        "* became_member_on (int) - date when customer created an app account\n",
        "* gender (str) - gender of the customer (note some entries contain 'O' for other rather than M or F)\n",
        "* id (str) - customer id\n",
        "* income (float) - customer's income\n",
        "\n",
        "**transcript.json**\n",
        "* event (str) - record description (ie transaction, offer received, offer viewed, etc.)\n",
        "* person (str) - customer id\n",
        "* time (int) - time in hours since start of test. The data begins at time t=0\n",
        "* value - (dict of strings) - either an offer id or transaction amount depending on the record\n",
        "\n",
        "**Note:** If you are using the workspace, you will need to go to the terminal and run the command `conda update pandas` before reading in the files. This is because the version of pandas in the workspace cannot read in the transcript.json file correctly, but the newest version of pandas can. You can access the termnal from the orange icon in the top left of this notebook.  \n",
        "\n",
        "You can see how to access the terminal and how the install works using the two images below.  First you need to access the terminal:\n",
        "\n",
        "<img src=\"pic1.png\"/>\n",
        "\n",
        "Then you will want to run the above command:\n",
        "\n",
        "<img src=\"pic2.png\"/>\n",
        "\n",
        "Finally, when you enter back into the notebook (use the jupyter icon again), you should be able to run the below cell without any errors."
      ]
    },
    {
      "cell_type": "code",
      "metadata": {
        "id": "g1i5D5hkk2bt",
        "colab_type": "code",
        "colab": {}
      },
      "source": [
        "import pandas as pd\n",
        "import numpy as np\n",
        "import math\n",
        "import json\n",
        "import numpy as np\n",
        "\n",
        "import matplotlib.pyplot as plt\n",
        "from sklearn.linear_model import LogisticRegression\n",
        "from sklearn.model_selection import train_test_split\n",
        "from sklearn.model_selection import cross_validate\n",
        "from sklearn.metrics import accuracy_score, confusion_matrix\n",
        "from sklearn.preprocessing import MinMaxScaler\n",
        "from sklearn.ensemble import RandomForestClassifier\n",
        "from sklearn.tree import DecisionTreeClassifier\n",
        "\n",
        "import seaborn as sns; sns.set()\n",
        "from sklearn.metrics import balanced_accuracy_score\n",
        "\n",
        "% matplotlib inline"
      ],
      "execution_count": 14,
      "outputs": []
    },
    {
      "cell_type": "code",
      "metadata": {
        "id": "Fn-4xq8mk2bx",
        "colab_type": "code",
        "colab": {}
      },
      "source": [
        "# read in the json files\n",
        "portfolio = pd.read_json('portfolio.json', orient='records', lines=True)\n",
        "profile = pd.read_json('profile.json', orient='records', lines=True)\n",
        "transcript = pd.read_json('transcript.json', orient='records', lines=True)"
      ],
      "execution_count": 15,
      "outputs": []
    },
    {
      "cell_type": "code",
      "metadata": {
        "id": "Xwt9ggA-k9S9",
        "colab_type": "code",
        "colab": {}
      },
      "source": [
        ""
      ],
      "execution_count": 3,
      "outputs": []
    },
    {
      "cell_type": "markdown",
      "metadata": {
        "id": "Ga7KfE9Jk2b3",
        "colab_type": "text"
      },
      "source": [
        "### Explore Dataset"
      ]
    },
    {
      "cell_type": "code",
      "metadata": {
        "id": "s3OYkM9vk2b4",
        "colab_type": "code",
        "colab": {}
      },
      "source": [
        "### Rename the offer id and person id, to make joining data much easier\n",
        "portfolio = portfolio.rename(columns = {'id':'offer_id'})\n",
        "profile = profile.rename(columns = {'id':'person'})"
      ],
      "execution_count": 16,
      "outputs": []
    },
    {
      "cell_type": "code",
      "metadata": {
        "id": "_jvdG2wsk2b7",
        "colab_type": "code",
        "colab": {
          "base_uri": "https://localhost:8080/",
          "height": 351
        },
        "outputId": "0454bc79-a125-44ac-a935-652cf99b989a"
      },
      "source": [
        "### Check the portfolio data\n",
        "print('There are only {} different offer in portfolio data'.format(portfolio.shape[0]))\n",
        "portfolio"
      ],
      "execution_count": 17,
      "outputs": [
        {
          "output_type": "stream",
          "text": [
            "There are only 10 different offer in portfolio data\n"
          ],
          "name": "stdout"
        },
        {
          "output_type": "execute_result",
          "data": {
            "text/html": [
              "<div>\n",
              "<style scoped>\n",
              "    .dataframe tbody tr th:only-of-type {\n",
              "        vertical-align: middle;\n",
              "    }\n",
              "\n",
              "    .dataframe tbody tr th {\n",
              "        vertical-align: top;\n",
              "    }\n",
              "\n",
              "    .dataframe thead th {\n",
              "        text-align: right;\n",
              "    }\n",
              "</style>\n",
              "<table border=\"1\" class=\"dataframe\">\n",
              "  <thead>\n",
              "    <tr style=\"text-align: right;\">\n",
              "      <th></th>\n",
              "      <th>reward</th>\n",
              "      <th>channels</th>\n",
              "      <th>difficulty</th>\n",
              "      <th>duration</th>\n",
              "      <th>offer_type</th>\n",
              "      <th>offer_id</th>\n",
              "    </tr>\n",
              "  </thead>\n",
              "  <tbody>\n",
              "    <tr>\n",
              "      <th>0</th>\n",
              "      <td>10</td>\n",
              "      <td>[email, mobile, social]</td>\n",
              "      <td>10</td>\n",
              "      <td>7</td>\n",
              "      <td>bogo</td>\n",
              "      <td>ae264e3637204a6fb9bb56bc8210ddfd</td>\n",
              "    </tr>\n",
              "    <tr>\n",
              "      <th>1</th>\n",
              "      <td>10</td>\n",
              "      <td>[web, email, mobile, social]</td>\n",
              "      <td>10</td>\n",
              "      <td>5</td>\n",
              "      <td>bogo</td>\n",
              "      <td>4d5c57ea9a6940dd891ad53e9dbe8da0</td>\n",
              "    </tr>\n",
              "    <tr>\n",
              "      <th>2</th>\n",
              "      <td>0</td>\n",
              "      <td>[web, email, mobile]</td>\n",
              "      <td>0</td>\n",
              "      <td>4</td>\n",
              "      <td>informational</td>\n",
              "      <td>3f207df678b143eea3cee63160fa8bed</td>\n",
              "    </tr>\n",
              "    <tr>\n",
              "      <th>3</th>\n",
              "      <td>5</td>\n",
              "      <td>[web, email, mobile]</td>\n",
              "      <td>5</td>\n",
              "      <td>7</td>\n",
              "      <td>bogo</td>\n",
              "      <td>9b98b8c7a33c4b65b9aebfe6a799e6d9</td>\n",
              "    </tr>\n",
              "    <tr>\n",
              "      <th>4</th>\n",
              "      <td>5</td>\n",
              "      <td>[web, email]</td>\n",
              "      <td>20</td>\n",
              "      <td>10</td>\n",
              "      <td>discount</td>\n",
              "      <td>0b1e1539f2cc45b7b9fa7c272da2e1d7</td>\n",
              "    </tr>\n",
              "    <tr>\n",
              "      <th>5</th>\n",
              "      <td>3</td>\n",
              "      <td>[web, email, mobile, social]</td>\n",
              "      <td>7</td>\n",
              "      <td>7</td>\n",
              "      <td>discount</td>\n",
              "      <td>2298d6c36e964ae4a3e7e9706d1fb8c2</td>\n",
              "    </tr>\n",
              "    <tr>\n",
              "      <th>6</th>\n",
              "      <td>2</td>\n",
              "      <td>[web, email, mobile, social]</td>\n",
              "      <td>10</td>\n",
              "      <td>10</td>\n",
              "      <td>discount</td>\n",
              "      <td>fafdcd668e3743c1bb461111dcafc2a4</td>\n",
              "    </tr>\n",
              "    <tr>\n",
              "      <th>7</th>\n",
              "      <td>0</td>\n",
              "      <td>[email, mobile, social]</td>\n",
              "      <td>0</td>\n",
              "      <td>3</td>\n",
              "      <td>informational</td>\n",
              "      <td>5a8bc65990b245e5a138643cd4eb9837</td>\n",
              "    </tr>\n",
              "    <tr>\n",
              "      <th>8</th>\n",
              "      <td>5</td>\n",
              "      <td>[web, email, mobile, social]</td>\n",
              "      <td>5</td>\n",
              "      <td>5</td>\n",
              "      <td>bogo</td>\n",
              "      <td>f19421c1d4aa40978ebb69ca19b0e20d</td>\n",
              "    </tr>\n",
              "    <tr>\n",
              "      <th>9</th>\n",
              "      <td>2</td>\n",
              "      <td>[web, email, mobile]</td>\n",
              "      <td>10</td>\n",
              "      <td>7</td>\n",
              "      <td>discount</td>\n",
              "      <td>2906b810c7d4411798c6938adc9daaa5</td>\n",
              "    </tr>\n",
              "  </tbody>\n",
              "</table>\n",
              "</div>"
            ],
            "text/plain": [
              "   reward  ...                          offer_id\n",
              "0      10  ...  ae264e3637204a6fb9bb56bc8210ddfd\n",
              "1      10  ...  4d5c57ea9a6940dd891ad53e9dbe8da0\n",
              "2       0  ...  3f207df678b143eea3cee63160fa8bed\n",
              "3       5  ...  9b98b8c7a33c4b65b9aebfe6a799e6d9\n",
              "4       5  ...  0b1e1539f2cc45b7b9fa7c272da2e1d7\n",
              "5       3  ...  2298d6c36e964ae4a3e7e9706d1fb8c2\n",
              "6       2  ...  fafdcd668e3743c1bb461111dcafc2a4\n",
              "7       0  ...  5a8bc65990b245e5a138643cd4eb9837\n",
              "8       5  ...  f19421c1d4aa40978ebb69ca19b0e20d\n",
              "9       2  ...  2906b810c7d4411798c6938adc9daaa5\n",
              "\n",
              "[10 rows x 6 columns]"
            ]
          },
          "metadata": {
            "tags": []
          },
          "execution_count": 17
        }
      ]
    },
    {
      "cell_type": "code",
      "metadata": {
        "id": "QZz6macKk2b-",
        "colab_type": "code",
        "colab": {
          "base_uri": "https://localhost:8080/",
          "height": 207
        },
        "outputId": "ab78c91a-378f-499f-8365-1f0bfd99e094"
      },
      "source": [
        "### Check the profile data\n",
        "print('There are only {} different persons in portfolio data'.format(len(set(profile.person))))\n",
        "profile.head()"
      ],
      "execution_count": 18,
      "outputs": [
        {
          "output_type": "stream",
          "text": [
            "There are only 17000 different persons in portfolio data\n"
          ],
          "name": "stdout"
        },
        {
          "output_type": "execute_result",
          "data": {
            "text/html": [
              "<div>\n",
              "<style scoped>\n",
              "    .dataframe tbody tr th:only-of-type {\n",
              "        vertical-align: middle;\n",
              "    }\n",
              "\n",
              "    .dataframe tbody tr th {\n",
              "        vertical-align: top;\n",
              "    }\n",
              "\n",
              "    .dataframe thead th {\n",
              "        text-align: right;\n",
              "    }\n",
              "</style>\n",
              "<table border=\"1\" class=\"dataframe\">\n",
              "  <thead>\n",
              "    <tr style=\"text-align: right;\">\n",
              "      <th></th>\n",
              "      <th>gender</th>\n",
              "      <th>age</th>\n",
              "      <th>person</th>\n",
              "      <th>became_member_on</th>\n",
              "      <th>income</th>\n",
              "    </tr>\n",
              "  </thead>\n",
              "  <tbody>\n",
              "    <tr>\n",
              "      <th>0</th>\n",
              "      <td>None</td>\n",
              "      <td>118</td>\n",
              "      <td>68be06ca386d4c31939f3a4f0e3dd783</td>\n",
              "      <td>20170212</td>\n",
              "      <td>NaN</td>\n",
              "    </tr>\n",
              "    <tr>\n",
              "      <th>1</th>\n",
              "      <td>F</td>\n",
              "      <td>55</td>\n",
              "      <td>0610b486422d4921ae7d2bf64640c50b</td>\n",
              "      <td>20170715</td>\n",
              "      <td>112000.0</td>\n",
              "    </tr>\n",
              "    <tr>\n",
              "      <th>2</th>\n",
              "      <td>None</td>\n",
              "      <td>118</td>\n",
              "      <td>38fe809add3b4fcf9315a9694bb96ff5</td>\n",
              "      <td>20180712</td>\n",
              "      <td>NaN</td>\n",
              "    </tr>\n",
              "    <tr>\n",
              "      <th>3</th>\n",
              "      <td>F</td>\n",
              "      <td>75</td>\n",
              "      <td>78afa995795e4d85b5d9ceeca43f5fef</td>\n",
              "      <td>20170509</td>\n",
              "      <td>100000.0</td>\n",
              "    </tr>\n",
              "    <tr>\n",
              "      <th>4</th>\n",
              "      <td>None</td>\n",
              "      <td>118</td>\n",
              "      <td>a03223e636434f42ac4c3df47e8bac43</td>\n",
              "      <td>20170804</td>\n",
              "      <td>NaN</td>\n",
              "    </tr>\n",
              "  </tbody>\n",
              "</table>\n",
              "</div>"
            ],
            "text/plain": [
              "  gender  age                            person  became_member_on    income\n",
              "0   None  118  68be06ca386d4c31939f3a4f0e3dd783          20170212       NaN\n",
              "1      F   55  0610b486422d4921ae7d2bf64640c50b          20170715  112000.0\n",
              "2   None  118  38fe809add3b4fcf9315a9694bb96ff5          20180712       NaN\n",
              "3      F   75  78afa995795e4d85b5d9ceeca43f5fef          20170509  100000.0\n",
              "4   None  118  a03223e636434f42ac4c3df47e8bac43          20170804       NaN"
            ]
          },
          "metadata": {
            "tags": []
          },
          "execution_count": 18
        }
      ]
    },
    {
      "cell_type": "code",
      "metadata": {
        "id": "nL4rggXzk2cB",
        "colab_type": "code",
        "colab": {
          "base_uri": "https://localhost:8080/",
          "height": 191
        },
        "outputId": "9f3f38fc-d865-454a-8c98-eb006829af8f"
      },
      "source": [
        "# extract year from membership start date\n",
        "profile['became_member_on'] = profile['became_member_on'].apply(str)\n",
        "profile['year_member'] = profile['became_member_on'].str.slice(stop=4)\n",
        "profile.head()"
      ],
      "execution_count": 19,
      "outputs": [
        {
          "output_type": "execute_result",
          "data": {
            "text/html": [
              "<div>\n",
              "<style scoped>\n",
              "    .dataframe tbody tr th:only-of-type {\n",
              "        vertical-align: middle;\n",
              "    }\n",
              "\n",
              "    .dataframe tbody tr th {\n",
              "        vertical-align: top;\n",
              "    }\n",
              "\n",
              "    .dataframe thead th {\n",
              "        text-align: right;\n",
              "    }\n",
              "</style>\n",
              "<table border=\"1\" class=\"dataframe\">\n",
              "  <thead>\n",
              "    <tr style=\"text-align: right;\">\n",
              "      <th></th>\n",
              "      <th>gender</th>\n",
              "      <th>age</th>\n",
              "      <th>person</th>\n",
              "      <th>became_member_on</th>\n",
              "      <th>income</th>\n",
              "      <th>year_member</th>\n",
              "    </tr>\n",
              "  </thead>\n",
              "  <tbody>\n",
              "    <tr>\n",
              "      <th>0</th>\n",
              "      <td>None</td>\n",
              "      <td>118</td>\n",
              "      <td>68be06ca386d4c31939f3a4f0e3dd783</td>\n",
              "      <td>20170212</td>\n",
              "      <td>NaN</td>\n",
              "      <td>2017</td>\n",
              "    </tr>\n",
              "    <tr>\n",
              "      <th>1</th>\n",
              "      <td>F</td>\n",
              "      <td>55</td>\n",
              "      <td>0610b486422d4921ae7d2bf64640c50b</td>\n",
              "      <td>20170715</td>\n",
              "      <td>112000.0</td>\n",
              "      <td>2017</td>\n",
              "    </tr>\n",
              "    <tr>\n",
              "      <th>2</th>\n",
              "      <td>None</td>\n",
              "      <td>118</td>\n",
              "      <td>38fe809add3b4fcf9315a9694bb96ff5</td>\n",
              "      <td>20180712</td>\n",
              "      <td>NaN</td>\n",
              "      <td>2018</td>\n",
              "    </tr>\n",
              "    <tr>\n",
              "      <th>3</th>\n",
              "      <td>F</td>\n",
              "      <td>75</td>\n",
              "      <td>78afa995795e4d85b5d9ceeca43f5fef</td>\n",
              "      <td>20170509</td>\n",
              "      <td>100000.0</td>\n",
              "      <td>2017</td>\n",
              "    </tr>\n",
              "    <tr>\n",
              "      <th>4</th>\n",
              "      <td>None</td>\n",
              "      <td>118</td>\n",
              "      <td>a03223e636434f42ac4c3df47e8bac43</td>\n",
              "      <td>20170804</td>\n",
              "      <td>NaN</td>\n",
              "      <td>2017</td>\n",
              "    </tr>\n",
              "  </tbody>\n",
              "</table>\n",
              "</div>"
            ],
            "text/plain": [
              "  gender  age  ...    income year_member\n",
              "0   None  118  ...       NaN        2017\n",
              "1      F   55  ...  112000.0        2017\n",
              "2   None  118  ...       NaN        2018\n",
              "3      F   75  ...  100000.0        2017\n",
              "4   None  118  ...       NaN        2017\n",
              "\n",
              "[5 rows x 6 columns]"
            ]
          },
          "metadata": {
            "tags": []
          },
          "execution_count": 19
        }
      ]
    },
    {
      "cell_type": "code",
      "metadata": {
        "id": "-l_aL2_pk2cE",
        "colab_type": "code",
        "colab": {
          "base_uri": "https://localhost:8080/",
          "height": 180
        },
        "outputId": "c51cce0f-3110-4e17-f8d8-3075833ab959"
      },
      "source": [
        "# Check the aging data in profile\n",
        "print('There is wide aging ranges in this dataset')\n",
        "profile.age.describe()"
      ],
      "execution_count": 20,
      "outputs": [
        {
          "output_type": "stream",
          "text": [
            "There is wide aging ranges in this dataset\n"
          ],
          "name": "stdout"
        },
        {
          "output_type": "execute_result",
          "data": {
            "text/plain": [
              "count    17000.000000\n",
              "mean        62.531412\n",
              "std         26.738580\n",
              "min         18.000000\n",
              "25%         45.000000\n",
              "50%         58.000000\n",
              "75%         73.000000\n",
              "max        118.000000\n",
              "Name: age, dtype: float64"
            ]
          },
          "metadata": {
            "tags": []
          },
          "execution_count": 20
        }
      ]
    },
    {
      "cell_type": "code",
      "metadata": {
        "id": "hEFsJtNok2cJ",
        "colab_type": "code",
        "colab": {
          "base_uri": "https://localhost:8080/",
          "height": 163
        },
        "outputId": "159dda05-92d9-4ca5-f27b-10aacbade1fe"
      },
      "source": [
        "# Check the income data in profile\n",
        "profile.income.describe()"
      ],
      "execution_count": 21,
      "outputs": [
        {
          "output_type": "execute_result",
          "data": {
            "text/plain": [
              "count     14825.000000\n",
              "mean      65404.991568\n",
              "std       21598.299410\n",
              "min       30000.000000\n",
              "25%       49000.000000\n",
              "50%       64000.000000\n",
              "75%       80000.000000\n",
              "max      120000.000000\n",
              "Name: income, dtype: float64"
            ]
          },
          "metadata": {
            "tags": []
          },
          "execution_count": 21
        }
      ]
    },
    {
      "cell_type": "code",
      "metadata": {
        "id": "cvVW-hwek2cM",
        "colab_type": "code",
        "colab": {}
      },
      "source": [
        "profile['income'] = profile['income'].replace(np.nan,64000) # replace nan value with mean of income\n",
        "# create income bins for each group of income for further visualization\n",
        "bins = [30000, 45000, 60000, 75000, 90000, 105000, 120000]\n",
        "labels = ['30K-45K', '45K-60K', '60K-75K', '75K-90K','90K-105K','105K-120K']\n",
        "profile['IncomeRange'] = pd.cut(profile.income, bins, labels = labels,include_lowest = True)"
      ],
      "execution_count": 22,
      "outputs": []
    },
    {
      "cell_type": "code",
      "metadata": {
        "id": "nIA9r4iFk2cP",
        "colab_type": "code",
        "colab": {
          "base_uri": "https://localhost:8080/",
          "height": 191
        },
        "outputId": "e489033b-11ef-4bff-8437-254291042b6b"
      },
      "source": [
        "# create age bins for each age for further visualization\n",
        "bins = [18, 30, 40, 50, 60, 70, 120]\n",
        "labels = ['18-29', '30-39', '40-49', '50-59', '60-69', '70+']\n",
        "profile['agerange'] = pd.cut(profile.age, bins, labels = labels,include_lowest = True)\n",
        "profile.head()"
      ],
      "execution_count": 23,
      "outputs": [
        {
          "output_type": "execute_result",
          "data": {
            "text/html": [
              "<div>\n",
              "<style scoped>\n",
              "    .dataframe tbody tr th:only-of-type {\n",
              "        vertical-align: middle;\n",
              "    }\n",
              "\n",
              "    .dataframe tbody tr th {\n",
              "        vertical-align: top;\n",
              "    }\n",
              "\n",
              "    .dataframe thead th {\n",
              "        text-align: right;\n",
              "    }\n",
              "</style>\n",
              "<table border=\"1\" class=\"dataframe\">\n",
              "  <thead>\n",
              "    <tr style=\"text-align: right;\">\n",
              "      <th></th>\n",
              "      <th>gender</th>\n",
              "      <th>age</th>\n",
              "      <th>person</th>\n",
              "      <th>became_member_on</th>\n",
              "      <th>income</th>\n",
              "      <th>year_member</th>\n",
              "      <th>IncomeRange</th>\n",
              "      <th>agerange</th>\n",
              "    </tr>\n",
              "  </thead>\n",
              "  <tbody>\n",
              "    <tr>\n",
              "      <th>0</th>\n",
              "      <td>None</td>\n",
              "      <td>118</td>\n",
              "      <td>68be06ca386d4c31939f3a4f0e3dd783</td>\n",
              "      <td>20170212</td>\n",
              "      <td>64000.0</td>\n",
              "      <td>2017</td>\n",
              "      <td>60K-75K</td>\n",
              "      <td>70+</td>\n",
              "    </tr>\n",
              "    <tr>\n",
              "      <th>1</th>\n",
              "      <td>F</td>\n",
              "      <td>55</td>\n",
              "      <td>0610b486422d4921ae7d2bf64640c50b</td>\n",
              "      <td>20170715</td>\n",
              "      <td>112000.0</td>\n",
              "      <td>2017</td>\n",
              "      <td>105K-120K</td>\n",
              "      <td>50-59</td>\n",
              "    </tr>\n",
              "    <tr>\n",
              "      <th>2</th>\n",
              "      <td>None</td>\n",
              "      <td>118</td>\n",
              "      <td>38fe809add3b4fcf9315a9694bb96ff5</td>\n",
              "      <td>20180712</td>\n",
              "      <td>64000.0</td>\n",
              "      <td>2018</td>\n",
              "      <td>60K-75K</td>\n",
              "      <td>70+</td>\n",
              "    </tr>\n",
              "    <tr>\n",
              "      <th>3</th>\n",
              "      <td>F</td>\n",
              "      <td>75</td>\n",
              "      <td>78afa995795e4d85b5d9ceeca43f5fef</td>\n",
              "      <td>20170509</td>\n",
              "      <td>100000.0</td>\n",
              "      <td>2017</td>\n",
              "      <td>90K-105K</td>\n",
              "      <td>70+</td>\n",
              "    </tr>\n",
              "    <tr>\n",
              "      <th>4</th>\n",
              "      <td>None</td>\n",
              "      <td>118</td>\n",
              "      <td>a03223e636434f42ac4c3df47e8bac43</td>\n",
              "      <td>20170804</td>\n",
              "      <td>64000.0</td>\n",
              "      <td>2017</td>\n",
              "      <td>60K-75K</td>\n",
              "      <td>70+</td>\n",
              "    </tr>\n",
              "  </tbody>\n",
              "</table>\n",
              "</div>"
            ],
            "text/plain": [
              "  gender  age  ... IncomeRange agerange\n",
              "0   None  118  ...     60K-75K      70+\n",
              "1      F   55  ...   105K-120K    50-59\n",
              "2   None  118  ...     60K-75K      70+\n",
              "3      F   75  ...    90K-105K      70+\n",
              "4   None  118  ...     60K-75K      70+\n",
              "\n",
              "[5 rows x 8 columns]"
            ]
          },
          "metadata": {
            "tags": []
          },
          "execution_count": 23
        }
      ]
    },
    {
      "cell_type": "code",
      "metadata": {
        "id": "BFhijaYTk2cS",
        "colab_type": "code",
        "colab": {
          "base_uri": "https://localhost:8080/",
          "height": 191
        },
        "outputId": "6e0c10bb-931f-41fa-9a07-11e0da74434f"
      },
      "source": [
        "# Check the number of gender in the profile set\n",
        "profile[['gender','age']].groupby('gender').agg(['count'])"
      ],
      "execution_count": 24,
      "outputs": [
        {
          "output_type": "execute_result",
          "data": {
            "text/html": [
              "<div>\n",
              "<style scoped>\n",
              "    .dataframe tbody tr th:only-of-type {\n",
              "        vertical-align: middle;\n",
              "    }\n",
              "\n",
              "    .dataframe tbody tr th {\n",
              "        vertical-align: top;\n",
              "    }\n",
              "\n",
              "    .dataframe thead tr th {\n",
              "        text-align: left;\n",
              "    }\n",
              "\n",
              "    .dataframe thead tr:last-of-type th {\n",
              "        text-align: right;\n",
              "    }\n",
              "</style>\n",
              "<table border=\"1\" class=\"dataframe\">\n",
              "  <thead>\n",
              "    <tr>\n",
              "      <th></th>\n",
              "      <th>age</th>\n",
              "    </tr>\n",
              "    <tr>\n",
              "      <th></th>\n",
              "      <th>count</th>\n",
              "    </tr>\n",
              "    <tr>\n",
              "      <th>gender</th>\n",
              "      <th></th>\n",
              "    </tr>\n",
              "  </thead>\n",
              "  <tbody>\n",
              "    <tr>\n",
              "      <th>F</th>\n",
              "      <td>6129</td>\n",
              "    </tr>\n",
              "    <tr>\n",
              "      <th>M</th>\n",
              "      <td>8484</td>\n",
              "    </tr>\n",
              "    <tr>\n",
              "      <th>O</th>\n",
              "      <td>212</td>\n",
              "    </tr>\n",
              "  </tbody>\n",
              "</table>\n",
              "</div>"
            ],
            "text/plain": [
              "         age\n",
              "       count\n",
              "gender      \n",
              "F       6129\n",
              "M       8484\n",
              "O        212"
            ]
          },
          "metadata": {
            "tags": []
          },
          "execution_count": 24
        }
      ]
    },
    {
      "cell_type": "code",
      "metadata": {
        "id": "dH7fKo-Gk2cW",
        "colab_type": "code",
        "colab": {}
      },
      "source": [
        ""
      ],
      "execution_count": 24,
      "outputs": []
    },
    {
      "cell_type": "code",
      "metadata": {
        "id": "rMKhZiP1k2cb",
        "colab_type": "code",
        "colab": {
          "base_uri": "https://localhost:8080/",
          "height": 207
        },
        "outputId": "f39cc03c-7f41-4e4e-c4ab-61601e3eabe9"
      },
      "source": [
        "# Chech transcript dataset\n",
        "print('There are {} events in transcript dataset'.format(transcript.shape[0]))\n",
        "transcript.head()"
      ],
      "execution_count": 25,
      "outputs": [
        {
          "output_type": "stream",
          "text": [
            "There are 306534 events in transcript dataset\n"
          ],
          "name": "stdout"
        },
        {
          "output_type": "execute_result",
          "data": {
            "text/html": [
              "<div>\n",
              "<style scoped>\n",
              "    .dataframe tbody tr th:only-of-type {\n",
              "        vertical-align: middle;\n",
              "    }\n",
              "\n",
              "    .dataframe tbody tr th {\n",
              "        vertical-align: top;\n",
              "    }\n",
              "\n",
              "    .dataframe thead th {\n",
              "        text-align: right;\n",
              "    }\n",
              "</style>\n",
              "<table border=\"1\" class=\"dataframe\">\n",
              "  <thead>\n",
              "    <tr style=\"text-align: right;\">\n",
              "      <th></th>\n",
              "      <th>person</th>\n",
              "      <th>event</th>\n",
              "      <th>value</th>\n",
              "      <th>time</th>\n",
              "    </tr>\n",
              "  </thead>\n",
              "  <tbody>\n",
              "    <tr>\n",
              "      <th>0</th>\n",
              "      <td>78afa995795e4d85b5d9ceeca43f5fef</td>\n",
              "      <td>offer received</td>\n",
              "      <td>{'offer id': '9b98b8c7a33c4b65b9aebfe6a799e6d9'}</td>\n",
              "      <td>0</td>\n",
              "    </tr>\n",
              "    <tr>\n",
              "      <th>1</th>\n",
              "      <td>a03223e636434f42ac4c3df47e8bac43</td>\n",
              "      <td>offer received</td>\n",
              "      <td>{'offer id': '0b1e1539f2cc45b7b9fa7c272da2e1d7'}</td>\n",
              "      <td>0</td>\n",
              "    </tr>\n",
              "    <tr>\n",
              "      <th>2</th>\n",
              "      <td>e2127556f4f64592b11af22de27a7932</td>\n",
              "      <td>offer received</td>\n",
              "      <td>{'offer id': '2906b810c7d4411798c6938adc9daaa5'}</td>\n",
              "      <td>0</td>\n",
              "    </tr>\n",
              "    <tr>\n",
              "      <th>3</th>\n",
              "      <td>8ec6ce2a7e7949b1bf142def7d0e0586</td>\n",
              "      <td>offer received</td>\n",
              "      <td>{'offer id': 'fafdcd668e3743c1bb461111dcafc2a4'}</td>\n",
              "      <td>0</td>\n",
              "    </tr>\n",
              "    <tr>\n",
              "      <th>4</th>\n",
              "      <td>68617ca6246f4fbc85e91a2a49552598</td>\n",
              "      <td>offer received</td>\n",
              "      <td>{'offer id': '4d5c57ea9a6940dd891ad53e9dbe8da0'}</td>\n",
              "      <td>0</td>\n",
              "    </tr>\n",
              "  </tbody>\n",
              "</table>\n",
              "</div>"
            ],
            "text/plain": [
              "                             person  ... time\n",
              "0  78afa995795e4d85b5d9ceeca43f5fef  ...    0\n",
              "1  a03223e636434f42ac4c3df47e8bac43  ...    0\n",
              "2  e2127556f4f64592b11af22de27a7932  ...    0\n",
              "3  8ec6ce2a7e7949b1bf142def7d0e0586  ...    0\n",
              "4  68617ca6246f4fbc85e91a2a49552598  ...    0\n",
              "\n",
              "[5 rows x 4 columns]"
            ]
          },
          "metadata": {
            "tags": []
          },
          "execution_count": 25
        }
      ]
    },
    {
      "cell_type": "code",
      "metadata": {
        "id": "wFpCmPFwk2ch",
        "colab_type": "code",
        "colab": {
          "base_uri": "https://localhost:8080/",
          "height": 163
        },
        "outputId": "88b59cb5-1ae6-431a-b21e-fba98fd4ccf6"
      },
      "source": [
        "# Check time data in transcript\n",
        "# time (int) - time in hours since start of test. The data begins at time t=0\n",
        "transcript.time.describe()"
      ],
      "execution_count": 26,
      "outputs": [
        {
          "output_type": "execute_result",
          "data": {
            "text/plain": [
              "count    306534.000000\n",
              "mean        366.382940\n",
              "std         200.326314\n",
              "min           0.000000\n",
              "25%         186.000000\n",
              "50%         408.000000\n",
              "75%         528.000000\n",
              "max         714.000000\n",
              "Name: time, dtype: float64"
            ]
          },
          "metadata": {
            "tags": []
          },
          "execution_count": 26
        }
      ]
    },
    {
      "cell_type": "code",
      "metadata": {
        "id": "lzXoiy6zk2cj",
        "colab_type": "code",
        "colab": {
          "base_uri": "https://localhost:8080/",
          "height": 191
        },
        "outputId": "1ecf0b94-69fd-423d-a03c-e334b7d602b5"
      },
      "source": [
        "# Check time data in transcript\n",
        "transcript.sort_values(by = 'time', ascending = False).head()"
      ],
      "execution_count": 27,
      "outputs": [
        {
          "output_type": "execute_result",
          "data": {
            "text/html": [
              "<div>\n",
              "<style scoped>\n",
              "    .dataframe tbody tr th:only-of-type {\n",
              "        vertical-align: middle;\n",
              "    }\n",
              "\n",
              "    .dataframe tbody tr th {\n",
              "        vertical-align: top;\n",
              "    }\n",
              "\n",
              "    .dataframe thead th {\n",
              "        text-align: right;\n",
              "    }\n",
              "</style>\n",
              "<table border=\"1\" class=\"dataframe\">\n",
              "  <thead>\n",
              "    <tr style=\"text-align: right;\">\n",
              "      <th></th>\n",
              "      <th>person</th>\n",
              "      <th>event</th>\n",
              "      <th>value</th>\n",
              "      <th>time</th>\n",
              "    </tr>\n",
              "  </thead>\n",
              "  <tbody>\n",
              "    <tr>\n",
              "      <th>306533</th>\n",
              "      <td>c02b10e8752c4d8e9b73f918558531f7</td>\n",
              "      <td>transaction</td>\n",
              "      <td>{'amount': 4.05}</td>\n",
              "      <td>714</td>\n",
              "    </tr>\n",
              "    <tr>\n",
              "      <th>305783</th>\n",
              "      <td>016b37032984457fb33ba2767fcc8c9f</td>\n",
              "      <td>transaction</td>\n",
              "      <td>{'amount': 1.72}</td>\n",
              "      <td>714</td>\n",
              "    </tr>\n",
              "    <tr>\n",
              "      <th>305777</th>\n",
              "      <td>dd2f15d3224349b3a54cbb4a91e89e0c</td>\n",
              "      <td>transaction</td>\n",
              "      <td>{'amount': 17.51}</td>\n",
              "      <td>714</td>\n",
              "    </tr>\n",
              "    <tr>\n",
              "      <th>305778</th>\n",
              "      <td>fac959096aa4492db3b1114bc6f2cd27</td>\n",
              "      <td>transaction</td>\n",
              "      <td>{'amount': 2.7}</td>\n",
              "      <td>714</td>\n",
              "    </tr>\n",
              "    <tr>\n",
              "      <th>305779</th>\n",
              "      <td>ec70faa2792f4ee19d67dca4957d285f</td>\n",
              "      <td>transaction</td>\n",
              "      <td>{'amount': 6.87}</td>\n",
              "      <td>714</td>\n",
              "    </tr>\n",
              "  </tbody>\n",
              "</table>\n",
              "</div>"
            ],
            "text/plain": [
              "                                  person        event              value  time\n",
              "306533  c02b10e8752c4d8e9b73f918558531f7  transaction   {'amount': 4.05}   714\n",
              "305783  016b37032984457fb33ba2767fcc8c9f  transaction   {'amount': 1.72}   714\n",
              "305777  dd2f15d3224349b3a54cbb4a91e89e0c  transaction  {'amount': 17.51}   714\n",
              "305778  fac959096aa4492db3b1114bc6f2cd27  transaction    {'amount': 2.7}   714\n",
              "305779  ec70faa2792f4ee19d67dca4957d285f  transaction   {'amount': 6.87}   714"
            ]
          },
          "metadata": {
            "tags": []
          },
          "execution_count": 27
        }
      ]
    },
    {
      "cell_type": "code",
      "metadata": {
        "id": "m1euGT3nk2cm",
        "colab_type": "code",
        "colab": {}
      },
      "source": [
        "## Explode the value in json types to new colunms, for the convenience of joining data\n",
        "transcript[['offer id', 'amount', 'offer_id', 'reward']]= transcript['value'].apply(pd.Series)\n",
        "transcript['offer'] = np.where(len(transcript['offer id']) > 2, transcript['offer id'], transcript['offer_id'])\n",
        "transcript = transcript.drop(['offer id','offer_id','value'], axis = 1)\n",
        "transcript = transcript.rename(columns = {'offer':'offer_id'})"
      ],
      "execution_count": 28,
      "outputs": []
    },
    {
      "cell_type": "code",
      "metadata": {
        "id": "I_Df8MNCk2cq",
        "colab_type": "code",
        "colab": {}
      },
      "source": [
        ""
      ],
      "execution_count": 28,
      "outputs": []
    },
    {
      "cell_type": "code",
      "metadata": {
        "id": "F9yvfspCk2cv",
        "colab_type": "code",
        "colab": {
          "base_uri": "https://localhost:8080/",
          "height": 33
        },
        "outputId": "065166b3-6abc-4891-8c3c-0903b4decef1"
      },
      "source": [
        "## check the dimension of dataset\n",
        "transcript.shape"
      ],
      "execution_count": 29,
      "outputs": [
        {
          "output_type": "execute_result",
          "data": {
            "text/plain": [
              "(306534, 6)"
            ]
          },
          "metadata": {
            "tags": []
          },
          "execution_count": 29
        }
      ]
    },
    {
      "cell_type": "code",
      "metadata": {
        "id": "CyJD_H3wk2cz",
        "colab_type": "code",
        "colab": {
          "base_uri": "https://localhost:8080/",
          "height": 33
        },
        "outputId": "6d45dd9d-49b8-4f50-d69c-3e4496d0efc2"
      },
      "source": [
        "# types of event\n",
        "set(transcript.event)"
      ],
      "execution_count": 30,
      "outputs": [
        {
          "output_type": "execute_result",
          "data": {
            "text/plain": [
              "{'offer completed', 'offer received', 'offer viewed', 'transaction'}"
            ]
          },
          "metadata": {
            "tags": []
          },
          "execution_count": 30
        }
      ]
    },
    {
      "cell_type": "code",
      "metadata": {
        "id": "bx6FSKmFk2c5",
        "colab_type": "code",
        "colab": {
          "base_uri": "https://localhost:8080/",
          "height": 191
        },
        "outputId": "8a1683ec-fd22-4330-8b52-c488787e250c"
      },
      "source": [
        "## check the event types and counts\n",
        "transcript.groupby(['event'])['time'].agg(['count'])"
      ],
      "execution_count": 31,
      "outputs": [
        {
          "output_type": "execute_result",
          "data": {
            "text/html": [
              "<div>\n",
              "<style scoped>\n",
              "    .dataframe tbody tr th:only-of-type {\n",
              "        vertical-align: middle;\n",
              "    }\n",
              "\n",
              "    .dataframe tbody tr th {\n",
              "        vertical-align: top;\n",
              "    }\n",
              "\n",
              "    .dataframe thead th {\n",
              "        text-align: right;\n",
              "    }\n",
              "</style>\n",
              "<table border=\"1\" class=\"dataframe\">\n",
              "  <thead>\n",
              "    <tr style=\"text-align: right;\">\n",
              "      <th></th>\n",
              "      <th>count</th>\n",
              "    </tr>\n",
              "    <tr>\n",
              "      <th>event</th>\n",
              "      <th></th>\n",
              "    </tr>\n",
              "  </thead>\n",
              "  <tbody>\n",
              "    <tr>\n",
              "      <th>offer completed</th>\n",
              "      <td>33579</td>\n",
              "    </tr>\n",
              "    <tr>\n",
              "      <th>offer received</th>\n",
              "      <td>76277</td>\n",
              "    </tr>\n",
              "    <tr>\n",
              "      <th>offer viewed</th>\n",
              "      <td>57725</td>\n",
              "    </tr>\n",
              "    <tr>\n",
              "      <th>transaction</th>\n",
              "      <td>138953</td>\n",
              "    </tr>\n",
              "  </tbody>\n",
              "</table>\n",
              "</div>"
            ],
            "text/plain": [
              "                  count\n",
              "event                  \n",
              "offer completed   33579\n",
              "offer received    76277\n",
              "offer viewed      57725\n",
              "transaction      138953"
            ]
          },
          "metadata": {
            "tags": []
          },
          "execution_count": 31
        }
      ]
    },
    {
      "cell_type": "code",
      "metadata": {
        "id": "fHmEIIeek2c8",
        "colab_type": "code",
        "colab": {
          "base_uri": "https://localhost:8080/",
          "height": 66
        },
        "outputId": "ea080e74-f916-42ea-9394-d8296baf0950"
      },
      "source": [
        "# Find Offer Complete\n",
        "offer_comp_length = len(transcript[transcript['event'] =='offer completed'])\n",
        "# Find Offer View\n",
        "offer_view_length = len(transcript[transcript['event'] =='offer viewed'])\n",
        "# Find Offer Receive\n",
        "offer_recei_length = len(transcript[transcript['event'] =='offer received'])\n",
        "print('The ratio of event times BTW view and receive', offer_view_length/offer_recei_length)\n",
        "print('The ratio of event times BTW complete and view', offer_comp_length/offer_view_length)\n",
        "print('The ratio of event times BTW complete and receive', offer_comp_length/offer_recei_length)"
      ],
      "execution_count": 32,
      "outputs": [
        {
          "output_type": "stream",
          "text": [
            "The ratio of event times BTW view and receive 0.7567812053436815\n",
            "The ratio of event times BTW complete and view 0.5817063663923776\n",
            "The ratio of event times BTW complete and receive 0.4402244451145168\n"
          ],
          "name": "stdout"
        }
      ]
    },
    {
      "cell_type": "code",
      "metadata": {
        "id": "e88o3HeBk2c-",
        "colab_type": "code",
        "colab": {
          "base_uri": "https://localhost:8080/",
          "height": 33
        },
        "outputId": "cfcaa324-f2e6-4578-a1f8-6d02de0cce28"
      },
      "source": [
        "print('There are {} records, and {} unique person id in transcripts'.format(transcript.shape[0], len(set(transcript.person))))"
      ],
      "execution_count": 75,
      "outputs": [
        {
          "output_type": "stream",
          "text": [
            "There are 306534 records, and 17000 unique person id in transcripts\n"
          ],
          "name": "stdout"
        }
      ]
    },
    {
      "cell_type": "code",
      "metadata": {
        "id": "tRMqemThk2dB",
        "colab_type": "code",
        "colab": {
          "base_uri": "https://localhost:8080/",
          "height": 191
        },
        "outputId": "bdfaa86e-80e0-48fb-f9d1-9805906f9133"
      },
      "source": [
        "transcript.head()"
      ],
      "execution_count": 76,
      "outputs": [
        {
          "output_type": "execute_result",
          "data": {
            "text/html": [
              "<div>\n",
              "<style scoped>\n",
              "    .dataframe tbody tr th:only-of-type {\n",
              "        vertical-align: middle;\n",
              "    }\n",
              "\n",
              "    .dataframe tbody tr th {\n",
              "        vertical-align: top;\n",
              "    }\n",
              "\n",
              "    .dataframe thead th {\n",
              "        text-align: right;\n",
              "    }\n",
              "</style>\n",
              "<table border=\"1\" class=\"dataframe\">\n",
              "  <thead>\n",
              "    <tr style=\"text-align: right;\">\n",
              "      <th></th>\n",
              "      <th>person</th>\n",
              "      <th>event</th>\n",
              "      <th>time</th>\n",
              "      <th>amount</th>\n",
              "      <th>reward</th>\n",
              "      <th>offer_id</th>\n",
              "    </tr>\n",
              "  </thead>\n",
              "  <tbody>\n",
              "    <tr>\n",
              "      <th>0</th>\n",
              "      <td>78afa995795e4d85b5d9ceeca43f5fef</td>\n",
              "      <td>offer received</td>\n",
              "      <td>0</td>\n",
              "      <td>NaN</td>\n",
              "      <td>NaN</td>\n",
              "      <td>9b98b8c7a33c4b65b9aebfe6a799e6d9</td>\n",
              "    </tr>\n",
              "    <tr>\n",
              "      <th>1</th>\n",
              "      <td>a03223e636434f42ac4c3df47e8bac43</td>\n",
              "      <td>offer received</td>\n",
              "      <td>0</td>\n",
              "      <td>NaN</td>\n",
              "      <td>NaN</td>\n",
              "      <td>0b1e1539f2cc45b7b9fa7c272da2e1d7</td>\n",
              "    </tr>\n",
              "    <tr>\n",
              "      <th>2</th>\n",
              "      <td>e2127556f4f64592b11af22de27a7932</td>\n",
              "      <td>offer received</td>\n",
              "      <td>0</td>\n",
              "      <td>NaN</td>\n",
              "      <td>NaN</td>\n",
              "      <td>2906b810c7d4411798c6938adc9daaa5</td>\n",
              "    </tr>\n",
              "    <tr>\n",
              "      <th>3</th>\n",
              "      <td>8ec6ce2a7e7949b1bf142def7d0e0586</td>\n",
              "      <td>offer received</td>\n",
              "      <td>0</td>\n",
              "      <td>NaN</td>\n",
              "      <td>NaN</td>\n",
              "      <td>fafdcd668e3743c1bb461111dcafc2a4</td>\n",
              "    </tr>\n",
              "    <tr>\n",
              "      <th>4</th>\n",
              "      <td>68617ca6246f4fbc85e91a2a49552598</td>\n",
              "      <td>offer received</td>\n",
              "      <td>0</td>\n",
              "      <td>NaN</td>\n",
              "      <td>NaN</td>\n",
              "      <td>4d5c57ea9a6940dd891ad53e9dbe8da0</td>\n",
              "    </tr>\n",
              "  </tbody>\n",
              "</table>\n",
              "</div>"
            ],
            "text/plain": [
              "                             person  ...                          offer_id\n",
              "0  78afa995795e4d85b5d9ceeca43f5fef  ...  9b98b8c7a33c4b65b9aebfe6a799e6d9\n",
              "1  a03223e636434f42ac4c3df47e8bac43  ...  0b1e1539f2cc45b7b9fa7c272da2e1d7\n",
              "2  e2127556f4f64592b11af22de27a7932  ...  2906b810c7d4411798c6938adc9daaa5\n",
              "3  8ec6ce2a7e7949b1bf142def7d0e0586  ...  fafdcd668e3743c1bb461111dcafc2a4\n",
              "4  68617ca6246f4fbc85e91a2a49552598  ...  4d5c57ea9a6940dd891ad53e9dbe8da0\n",
              "\n",
              "[5 rows x 6 columns]"
            ]
          },
          "metadata": {
            "tags": []
          },
          "execution_count": 76
        }
      ]
    },
    {
      "cell_type": "markdown",
      "metadata": {
        "id": "oziRlu2mk2dE",
        "colab_type": "text"
      },
      "source": [
        "# Data Cleaning"
      ]
    },
    {
      "cell_type": "markdown",
      "metadata": {
        "id": "NaZ54Hjck2dF",
        "colab_type": "text"
      },
      "source": [
        "#### Explore Customer who viewed and completed offer"
      ]
    },
    {
      "cell_type": "code",
      "metadata": {
        "id": "yWtOSBomk2dF",
        "colab_type": "code",
        "colab": {}
      },
      "source": [
        "# Find Offer Complete\n",
        "offer_comp_df = transcript[transcript['event'] =='offer completed']\n",
        "# Find Offer View\n",
        "offer_view_df = transcript[transcript['event'] =='offer viewed']"
      ],
      "execution_count": 77,
      "outputs": []
    },
    {
      "cell_type": "code",
      "metadata": {
        "id": "rXNfr-T0k2dJ",
        "colab_type": "code",
        "colab": {
          "base_uri": "https://localhost:8080/",
          "height": 223
        },
        "outputId": "46f8a5d3-0ea0-4ebf-941a-17ebd0aeb9ef"
      },
      "source": [
        "# check offer completed related data\n",
        "print('There are {} person complete the offer'.format(len(set(offer_comp_df.person))))\n",
        "print('There are {} completed offer record'.format(len(offer_comp_df)))\n",
        "offer_comp_df.head()"
      ],
      "execution_count": 78,
      "outputs": [
        {
          "output_type": "stream",
          "text": [
            "There are 12774 person complete the offer\n",
            "There are 33579 completed offer record\n"
          ],
          "name": "stdout"
        },
        {
          "output_type": "execute_result",
          "data": {
            "text/html": [
              "<div>\n",
              "<style scoped>\n",
              "    .dataframe tbody tr th:only-of-type {\n",
              "        vertical-align: middle;\n",
              "    }\n",
              "\n",
              "    .dataframe tbody tr th {\n",
              "        vertical-align: top;\n",
              "    }\n",
              "\n",
              "    .dataframe thead th {\n",
              "        text-align: right;\n",
              "    }\n",
              "</style>\n",
              "<table border=\"1\" class=\"dataframe\">\n",
              "  <thead>\n",
              "    <tr style=\"text-align: right;\">\n",
              "      <th></th>\n",
              "      <th>person</th>\n",
              "      <th>event</th>\n",
              "      <th>time</th>\n",
              "      <th>amount</th>\n",
              "      <th>reward</th>\n",
              "      <th>offer_id</th>\n",
              "    </tr>\n",
              "  </thead>\n",
              "  <tbody>\n",
              "    <tr>\n",
              "      <th>12658</th>\n",
              "      <td>9fa9ae8f57894cc9a3b8a9bbe0fc1b2f</td>\n",
              "      <td>offer completed</td>\n",
              "      <td>0</td>\n",
              "      <td>NaN</td>\n",
              "      <td>2.0</td>\n",
              "      <td>NaN</td>\n",
              "    </tr>\n",
              "    <tr>\n",
              "      <th>12672</th>\n",
              "      <td>fe97aa22dd3e48c8b143116a8403dd52</td>\n",
              "      <td>offer completed</td>\n",
              "      <td>0</td>\n",
              "      <td>NaN</td>\n",
              "      <td>2.0</td>\n",
              "      <td>NaN</td>\n",
              "    </tr>\n",
              "    <tr>\n",
              "      <th>12679</th>\n",
              "      <td>629fc02d56414d91bca360decdfa9288</td>\n",
              "      <td>offer completed</td>\n",
              "      <td>0</td>\n",
              "      <td>NaN</td>\n",
              "      <td>5.0</td>\n",
              "      <td>NaN</td>\n",
              "    </tr>\n",
              "    <tr>\n",
              "      <th>12692</th>\n",
              "      <td>676506bad68e4161b9bbaffeb039626b</td>\n",
              "      <td>offer completed</td>\n",
              "      <td>0</td>\n",
              "      <td>NaN</td>\n",
              "      <td>10.0</td>\n",
              "      <td>NaN</td>\n",
              "    </tr>\n",
              "    <tr>\n",
              "      <th>12697</th>\n",
              "      <td>8f7dd3b2afe14c078eb4f6e6fe4ba97d</td>\n",
              "      <td>offer completed</td>\n",
              "      <td>0</td>\n",
              "      <td>NaN</td>\n",
              "      <td>10.0</td>\n",
              "      <td>NaN</td>\n",
              "    </tr>\n",
              "  </tbody>\n",
              "</table>\n",
              "</div>"
            ],
            "text/plain": [
              "                                 person            event  ...  reward  offer_id\n",
              "12658  9fa9ae8f57894cc9a3b8a9bbe0fc1b2f  offer completed  ...     2.0       NaN\n",
              "12672  fe97aa22dd3e48c8b143116a8403dd52  offer completed  ...     2.0       NaN\n",
              "12679  629fc02d56414d91bca360decdfa9288  offer completed  ...     5.0       NaN\n",
              "12692  676506bad68e4161b9bbaffeb039626b  offer completed  ...    10.0       NaN\n",
              "12697  8f7dd3b2afe14c078eb4f6e6fe4ba97d  offer completed  ...    10.0       NaN\n",
              "\n",
              "[5 rows x 6 columns]"
            ]
          },
          "metadata": {
            "tags": []
          },
          "execution_count": 78
        }
      ]
    },
    {
      "cell_type": "code",
      "metadata": {
        "id": "y7rzOfphk2dQ",
        "colab_type": "code",
        "colab": {
          "base_uri": "https://localhost:8080/",
          "height": 223
        },
        "outputId": "235cab43-bdbe-4324-b321-4c25219f2e92"
      },
      "source": [
        "# check offer viewed related data\n",
        "print('There are {} person view the offer'.format(len(set(offer_view_df.person))))\n",
        "print('There are {} viewed offer record'.format(len(offer_view_df)))\n",
        "offer_view_df.head()"
      ],
      "execution_count": 79,
      "outputs": [
        {
          "output_type": "stream",
          "text": [
            "There are 16834 person view the offer\n",
            "There are 57725 viewed offer record\n"
          ],
          "name": "stdout"
        },
        {
          "output_type": "execute_result",
          "data": {
            "text/html": [
              "<div>\n",
              "<style scoped>\n",
              "    .dataframe tbody tr th:only-of-type {\n",
              "        vertical-align: middle;\n",
              "    }\n",
              "\n",
              "    .dataframe tbody tr th {\n",
              "        vertical-align: top;\n",
              "    }\n",
              "\n",
              "    .dataframe thead th {\n",
              "        text-align: right;\n",
              "    }\n",
              "</style>\n",
              "<table border=\"1\" class=\"dataframe\">\n",
              "  <thead>\n",
              "    <tr style=\"text-align: right;\">\n",
              "      <th></th>\n",
              "      <th>person</th>\n",
              "      <th>event</th>\n",
              "      <th>time</th>\n",
              "      <th>amount</th>\n",
              "      <th>reward</th>\n",
              "      <th>offer_id</th>\n",
              "    </tr>\n",
              "  </thead>\n",
              "  <tbody>\n",
              "    <tr>\n",
              "      <th>12650</th>\n",
              "      <td>389bc3fa690240e798340f5a15918d5c</td>\n",
              "      <td>offer viewed</td>\n",
              "      <td>0</td>\n",
              "      <td>NaN</td>\n",
              "      <td>NaN</td>\n",
              "      <td>f19421c1d4aa40978ebb69ca19b0e20d</td>\n",
              "    </tr>\n",
              "    <tr>\n",
              "      <th>12651</th>\n",
              "      <td>d1ede868e29245ea91818a903fec04c6</td>\n",
              "      <td>offer viewed</td>\n",
              "      <td>0</td>\n",
              "      <td>NaN</td>\n",
              "      <td>NaN</td>\n",
              "      <td>5a8bc65990b245e5a138643cd4eb9837</td>\n",
              "    </tr>\n",
              "    <tr>\n",
              "      <th>12652</th>\n",
              "      <td>102e9454054946fda62242d2e176fdce</td>\n",
              "      <td>offer viewed</td>\n",
              "      <td>0</td>\n",
              "      <td>NaN</td>\n",
              "      <td>NaN</td>\n",
              "      <td>4d5c57ea9a6940dd891ad53e9dbe8da0</td>\n",
              "    </tr>\n",
              "    <tr>\n",
              "      <th>12653</th>\n",
              "      <td>02c083884c7d45b39cc68e1314fec56c</td>\n",
              "      <td>offer viewed</td>\n",
              "      <td>0</td>\n",
              "      <td>NaN</td>\n",
              "      <td>NaN</td>\n",
              "      <td>ae264e3637204a6fb9bb56bc8210ddfd</td>\n",
              "    </tr>\n",
              "    <tr>\n",
              "      <th>12655</th>\n",
              "      <td>be8a5d1981a2458d90b255ddc7e0d174</td>\n",
              "      <td>offer viewed</td>\n",
              "      <td>0</td>\n",
              "      <td>NaN</td>\n",
              "      <td>NaN</td>\n",
              "      <td>5a8bc65990b245e5a138643cd4eb9837</td>\n",
              "    </tr>\n",
              "  </tbody>\n",
              "</table>\n",
              "</div>"
            ],
            "text/plain": [
              "                                 person  ...                          offer_id\n",
              "12650  389bc3fa690240e798340f5a15918d5c  ...  f19421c1d4aa40978ebb69ca19b0e20d\n",
              "12651  d1ede868e29245ea91818a903fec04c6  ...  5a8bc65990b245e5a138643cd4eb9837\n",
              "12652  102e9454054946fda62242d2e176fdce  ...  4d5c57ea9a6940dd891ad53e9dbe8da0\n",
              "12653  02c083884c7d45b39cc68e1314fec56c  ...  ae264e3637204a6fb9bb56bc8210ddfd\n",
              "12655  be8a5d1981a2458d90b255ddc7e0d174  ...  5a8bc65990b245e5a138643cd4eb9837\n",
              "\n",
              "[5 rows x 6 columns]"
            ]
          },
          "metadata": {
            "tags": []
          },
          "execution_count": 79
        }
      ]
    },
    {
      "cell_type": "code",
      "metadata": {
        "id": "yI-ccD9hk2dT",
        "colab_type": "code",
        "colab": {}
      },
      "source": [
        "### Select the person who view and complete the event\n",
        "set_comp = set(offer_comp_df.person)\n",
        "set_view = set(offer_view_df.person)\n",
        "ppo_view_comp = set_comp.intersection(set_view)\n",
        "offer_view_df_ppo = offer_view_df[offer_view_df['person'].isin(ppo_view_comp)]"
      ],
      "execution_count": 80,
      "outputs": []
    },
    {
      "cell_type": "code",
      "metadata": {
        "id": "omHeVHJak2dW",
        "colab_type": "code",
        "colab": {}
      },
      "source": [
        ""
      ],
      "execution_count": 80,
      "outputs": []
    },
    {
      "cell_type": "code",
      "metadata": {
        "id": "SXS_tixqk2dY",
        "colab_type": "code",
        "colab": {
          "base_uri": "https://localhost:8080/",
          "height": 191
        },
        "outputId": "f4c18d6f-3b6b-45a0-c1d2-dafecaac3550"
      },
      "source": [
        "offer_view_df_ppo.head()"
      ],
      "execution_count": 81,
      "outputs": [
        {
          "output_type": "execute_result",
          "data": {
            "text/html": [
              "<div>\n",
              "<style scoped>\n",
              "    .dataframe tbody tr th:only-of-type {\n",
              "        vertical-align: middle;\n",
              "    }\n",
              "\n",
              "    .dataframe tbody tr th {\n",
              "        vertical-align: top;\n",
              "    }\n",
              "\n",
              "    .dataframe thead th {\n",
              "        text-align: right;\n",
              "    }\n",
              "</style>\n",
              "<table border=\"1\" class=\"dataframe\">\n",
              "  <thead>\n",
              "    <tr style=\"text-align: right;\">\n",
              "      <th></th>\n",
              "      <th>person</th>\n",
              "      <th>event</th>\n",
              "      <th>time</th>\n",
              "      <th>amount</th>\n",
              "      <th>reward</th>\n",
              "      <th>offer_id</th>\n",
              "    </tr>\n",
              "  </thead>\n",
              "  <tbody>\n",
              "    <tr>\n",
              "      <th>12650</th>\n",
              "      <td>389bc3fa690240e798340f5a15918d5c</td>\n",
              "      <td>offer viewed</td>\n",
              "      <td>0</td>\n",
              "      <td>NaN</td>\n",
              "      <td>NaN</td>\n",
              "      <td>f19421c1d4aa40978ebb69ca19b0e20d</td>\n",
              "    </tr>\n",
              "    <tr>\n",
              "      <th>12651</th>\n",
              "      <td>d1ede868e29245ea91818a903fec04c6</td>\n",
              "      <td>offer viewed</td>\n",
              "      <td>0</td>\n",
              "      <td>NaN</td>\n",
              "      <td>NaN</td>\n",
              "      <td>5a8bc65990b245e5a138643cd4eb9837</td>\n",
              "    </tr>\n",
              "    <tr>\n",
              "      <th>12652</th>\n",
              "      <td>102e9454054946fda62242d2e176fdce</td>\n",
              "      <td>offer viewed</td>\n",
              "      <td>0</td>\n",
              "      <td>NaN</td>\n",
              "      <td>NaN</td>\n",
              "      <td>4d5c57ea9a6940dd891ad53e9dbe8da0</td>\n",
              "    </tr>\n",
              "    <tr>\n",
              "      <th>12655</th>\n",
              "      <td>be8a5d1981a2458d90b255ddc7e0d174</td>\n",
              "      <td>offer viewed</td>\n",
              "      <td>0</td>\n",
              "      <td>NaN</td>\n",
              "      <td>NaN</td>\n",
              "      <td>5a8bc65990b245e5a138643cd4eb9837</td>\n",
              "    </tr>\n",
              "    <tr>\n",
              "      <th>12656</th>\n",
              "      <td>9fa9ae8f57894cc9a3b8a9bbe0fc1b2f</td>\n",
              "      <td>offer viewed</td>\n",
              "      <td>0</td>\n",
              "      <td>NaN</td>\n",
              "      <td>NaN</td>\n",
              "      <td>2906b810c7d4411798c6938adc9daaa5</td>\n",
              "    </tr>\n",
              "  </tbody>\n",
              "</table>\n",
              "</div>"
            ],
            "text/plain": [
              "                                 person  ...                          offer_id\n",
              "12650  389bc3fa690240e798340f5a15918d5c  ...  f19421c1d4aa40978ebb69ca19b0e20d\n",
              "12651  d1ede868e29245ea91818a903fec04c6  ...  5a8bc65990b245e5a138643cd4eb9837\n",
              "12652  102e9454054946fda62242d2e176fdce  ...  4d5c57ea9a6940dd891ad53e9dbe8da0\n",
              "12655  be8a5d1981a2458d90b255ddc7e0d174  ...  5a8bc65990b245e5a138643cd4eb9837\n",
              "12656  9fa9ae8f57894cc9a3b8a9bbe0fc1b2f  ...  2906b810c7d4411798c6938adc9daaa5\n",
              "\n",
              "[5 rows x 6 columns]"
            ]
          },
          "metadata": {
            "tags": []
          },
          "execution_count": 81
        }
      ]
    },
    {
      "cell_type": "code",
      "metadata": {
        "id": "0fwH1p0bk2df",
        "colab_type": "code",
        "colab": {
          "base_uri": "https://localhost:8080/",
          "height": 33
        },
        "outputId": "06c8d27c-ac9e-4dde-8723-bbba2b948ddf"
      },
      "source": [
        "# Select the people who completed the offer also viewed the offer\n",
        "offer_comp_df_ppo = offer_comp_df[offer_comp_df['person'].isin(ppo_view_comp)]\n",
        "print('There are {} times offer completed by people who viewed offer'.format(offer_comp_df_ppo.shape[0]))"
      ],
      "execution_count": 82,
      "outputs": [
        {
          "output_type": "stream",
          "text": [
            "There are 33466 times offer completed by people who viewed offer\n"
          ],
          "name": "stdout"
        }
      ]
    },
    {
      "cell_type": "code",
      "metadata": {
        "id": "69ibuP9_k2dm",
        "colab_type": "code",
        "colab": {
          "base_uri": "https://localhost:8080/",
          "height": 292
        },
        "outputId": "e1da8941-5350-4f8c-d6cf-d35e056ab1e0"
      },
      "source": [
        "# Merge people who view and complete offer with customer profiles\n",
        "offer_comp_ppo_profile = pd.merge(offer_comp_df_ppo, profile, on = 'person', how = 'inner')\n",
        "# Merge people who view the offer with customer profiles\n",
        "offer_view_profile = pd.merge(offer_view_df, profile, on = 'person', how = 'inner')\n",
        "\n",
        "offer_view_profile.head()"
      ],
      "execution_count": 83,
      "outputs": [
        {
          "output_type": "execute_result",
          "data": {
            "text/html": [
              "<div>\n",
              "<style scoped>\n",
              "    .dataframe tbody tr th:only-of-type {\n",
              "        vertical-align: middle;\n",
              "    }\n",
              "\n",
              "    .dataframe tbody tr th {\n",
              "        vertical-align: top;\n",
              "    }\n",
              "\n",
              "    .dataframe thead th {\n",
              "        text-align: right;\n",
              "    }\n",
              "</style>\n",
              "<table border=\"1\" class=\"dataframe\">\n",
              "  <thead>\n",
              "    <tr style=\"text-align: right;\">\n",
              "      <th></th>\n",
              "      <th>person</th>\n",
              "      <th>event</th>\n",
              "      <th>time</th>\n",
              "      <th>amount</th>\n",
              "      <th>reward</th>\n",
              "      <th>offer_id</th>\n",
              "      <th>gender</th>\n",
              "      <th>age</th>\n",
              "      <th>became_member_on</th>\n",
              "      <th>income</th>\n",
              "      <th>year_member</th>\n",
              "      <th>IncomeRange</th>\n",
              "      <th>agerange</th>\n",
              "    </tr>\n",
              "  </thead>\n",
              "  <tbody>\n",
              "    <tr>\n",
              "      <th>0</th>\n",
              "      <td>389bc3fa690240e798340f5a15918d5c</td>\n",
              "      <td>offer viewed</td>\n",
              "      <td>0</td>\n",
              "      <td>NaN</td>\n",
              "      <td>NaN</td>\n",
              "      <td>f19421c1d4aa40978ebb69ca19b0e20d</td>\n",
              "      <td>M</td>\n",
              "      <td>65</td>\n",
              "      <td>20180209</td>\n",
              "      <td>53000.0</td>\n",
              "      <td>2018</td>\n",
              "      <td>45K-60K</td>\n",
              "      <td>60-69</td>\n",
              "    </tr>\n",
              "    <tr>\n",
              "      <th>1</th>\n",
              "      <td>389bc3fa690240e798340f5a15918d5c</td>\n",
              "      <td>offer viewed</td>\n",
              "      <td>192</td>\n",
              "      <td>NaN</td>\n",
              "      <td>NaN</td>\n",
              "      <td>9b98b8c7a33c4b65b9aebfe6a799e6d9</td>\n",
              "      <td>M</td>\n",
              "      <td>65</td>\n",
              "      <td>20180209</td>\n",
              "      <td>53000.0</td>\n",
              "      <td>2018</td>\n",
              "      <td>45K-60K</td>\n",
              "      <td>60-69</td>\n",
              "    </tr>\n",
              "    <tr>\n",
              "      <th>2</th>\n",
              "      <td>389bc3fa690240e798340f5a15918d5c</td>\n",
              "      <td>offer viewed</td>\n",
              "      <td>354</td>\n",
              "      <td>NaN</td>\n",
              "      <td>NaN</td>\n",
              "      <td>2906b810c7d4411798c6938adc9daaa5</td>\n",
              "      <td>M</td>\n",
              "      <td>65</td>\n",
              "      <td>20180209</td>\n",
              "      <td>53000.0</td>\n",
              "      <td>2018</td>\n",
              "      <td>45K-60K</td>\n",
              "      <td>60-69</td>\n",
              "    </tr>\n",
              "    <tr>\n",
              "      <th>3</th>\n",
              "      <td>389bc3fa690240e798340f5a15918d5c</td>\n",
              "      <td>offer viewed</td>\n",
              "      <td>438</td>\n",
              "      <td>NaN</td>\n",
              "      <td>NaN</td>\n",
              "      <td>9b98b8c7a33c4b65b9aebfe6a799e6d9</td>\n",
              "      <td>M</td>\n",
              "      <td>65</td>\n",
              "      <td>20180209</td>\n",
              "      <td>53000.0</td>\n",
              "      <td>2018</td>\n",
              "      <td>45K-60K</td>\n",
              "      <td>60-69</td>\n",
              "    </tr>\n",
              "    <tr>\n",
              "      <th>4</th>\n",
              "      <td>389bc3fa690240e798340f5a15918d5c</td>\n",
              "      <td>offer viewed</td>\n",
              "      <td>504</td>\n",
              "      <td>NaN</td>\n",
              "      <td>NaN</td>\n",
              "      <td>f19421c1d4aa40978ebb69ca19b0e20d</td>\n",
              "      <td>M</td>\n",
              "      <td>65</td>\n",
              "      <td>20180209</td>\n",
              "      <td>53000.0</td>\n",
              "      <td>2018</td>\n",
              "      <td>45K-60K</td>\n",
              "      <td>60-69</td>\n",
              "    </tr>\n",
              "  </tbody>\n",
              "</table>\n",
              "</div>"
            ],
            "text/plain": [
              "                             person         event  ...  IncomeRange  agerange\n",
              "0  389bc3fa690240e798340f5a15918d5c  offer viewed  ...      45K-60K     60-69\n",
              "1  389bc3fa690240e798340f5a15918d5c  offer viewed  ...      45K-60K     60-69\n",
              "2  389bc3fa690240e798340f5a15918d5c  offer viewed  ...      45K-60K     60-69\n",
              "3  389bc3fa690240e798340f5a15918d5c  offer viewed  ...      45K-60K     60-69\n",
              "4  389bc3fa690240e798340f5a15918d5c  offer viewed  ...      45K-60K     60-69\n",
              "\n",
              "[5 rows x 13 columns]"
            ]
          },
          "metadata": {
            "tags": []
          },
          "execution_count": 83
        }
      ]
    },
    {
      "cell_type": "code",
      "metadata": {
        "id": "gnT24ppKk2dv",
        "colab_type": "code",
        "colab": {
          "base_uri": "https://localhost:8080/",
          "height": 292
        },
        "outputId": "f57892e7-10a1-4918-9625-e29cf85cd1aa"
      },
      "source": [
        "offer_comp_ppo_profile.head()"
      ],
      "execution_count": 84,
      "outputs": [
        {
          "output_type": "execute_result",
          "data": {
            "text/html": [
              "<div>\n",
              "<style scoped>\n",
              "    .dataframe tbody tr th:only-of-type {\n",
              "        vertical-align: middle;\n",
              "    }\n",
              "\n",
              "    .dataframe tbody tr th {\n",
              "        vertical-align: top;\n",
              "    }\n",
              "\n",
              "    .dataframe thead th {\n",
              "        text-align: right;\n",
              "    }\n",
              "</style>\n",
              "<table border=\"1\" class=\"dataframe\">\n",
              "  <thead>\n",
              "    <tr style=\"text-align: right;\">\n",
              "      <th></th>\n",
              "      <th>person</th>\n",
              "      <th>event</th>\n",
              "      <th>time</th>\n",
              "      <th>amount</th>\n",
              "      <th>reward</th>\n",
              "      <th>offer_id</th>\n",
              "      <th>gender</th>\n",
              "      <th>age</th>\n",
              "      <th>became_member_on</th>\n",
              "      <th>income</th>\n",
              "      <th>year_member</th>\n",
              "      <th>IncomeRange</th>\n",
              "      <th>agerange</th>\n",
              "    </tr>\n",
              "  </thead>\n",
              "  <tbody>\n",
              "    <tr>\n",
              "      <th>0</th>\n",
              "      <td>9fa9ae8f57894cc9a3b8a9bbe0fc1b2f</td>\n",
              "      <td>offer completed</td>\n",
              "      <td>0</td>\n",
              "      <td>NaN</td>\n",
              "      <td>2.0</td>\n",
              "      <td>NaN</td>\n",
              "      <td>M</td>\n",
              "      <td>42</td>\n",
              "      <td>20160117</td>\n",
              "      <td>96000.0</td>\n",
              "      <td>2016</td>\n",
              "      <td>90K-105K</td>\n",
              "      <td>40-49</td>\n",
              "    </tr>\n",
              "    <tr>\n",
              "      <th>1</th>\n",
              "      <td>9fa9ae8f57894cc9a3b8a9bbe0fc1b2f</td>\n",
              "      <td>offer completed</td>\n",
              "      <td>354</td>\n",
              "      <td>NaN</td>\n",
              "      <td>3.0</td>\n",
              "      <td>NaN</td>\n",
              "      <td>M</td>\n",
              "      <td>42</td>\n",
              "      <td>20160117</td>\n",
              "      <td>96000.0</td>\n",
              "      <td>2016</td>\n",
              "      <td>90K-105K</td>\n",
              "      <td>40-49</td>\n",
              "    </tr>\n",
              "    <tr>\n",
              "      <th>2</th>\n",
              "      <td>9fa9ae8f57894cc9a3b8a9bbe0fc1b2f</td>\n",
              "      <td>offer completed</td>\n",
              "      <td>474</td>\n",
              "      <td>NaN</td>\n",
              "      <td>5.0</td>\n",
              "      <td>NaN</td>\n",
              "      <td>M</td>\n",
              "      <td>42</td>\n",
              "      <td>20160117</td>\n",
              "      <td>96000.0</td>\n",
              "      <td>2016</td>\n",
              "      <td>90K-105K</td>\n",
              "      <td>40-49</td>\n",
              "    </tr>\n",
              "    <tr>\n",
              "      <th>3</th>\n",
              "      <td>9fa9ae8f57894cc9a3b8a9bbe0fc1b2f</td>\n",
              "      <td>offer completed</td>\n",
              "      <td>540</td>\n",
              "      <td>NaN</td>\n",
              "      <td>10.0</td>\n",
              "      <td>NaN</td>\n",
              "      <td>M</td>\n",
              "      <td>42</td>\n",
              "      <td>20160117</td>\n",
              "      <td>96000.0</td>\n",
              "      <td>2016</td>\n",
              "      <td>90K-105K</td>\n",
              "      <td>40-49</td>\n",
              "    </tr>\n",
              "    <tr>\n",
              "      <th>4</th>\n",
              "      <td>fe97aa22dd3e48c8b143116a8403dd52</td>\n",
              "      <td>offer completed</td>\n",
              "      <td>0</td>\n",
              "      <td>NaN</td>\n",
              "      <td>2.0</td>\n",
              "      <td>NaN</td>\n",
              "      <td>F</td>\n",
              "      <td>39</td>\n",
              "      <td>20171217</td>\n",
              "      <td>67000.0</td>\n",
              "      <td>2017</td>\n",
              "      <td>60K-75K</td>\n",
              "      <td>30-39</td>\n",
              "    </tr>\n",
              "  </tbody>\n",
              "</table>\n",
              "</div>"
            ],
            "text/plain": [
              "                             person            event  ...  IncomeRange  agerange\n",
              "0  9fa9ae8f57894cc9a3b8a9bbe0fc1b2f  offer completed  ...     90K-105K     40-49\n",
              "1  9fa9ae8f57894cc9a3b8a9bbe0fc1b2f  offer completed  ...     90K-105K     40-49\n",
              "2  9fa9ae8f57894cc9a3b8a9bbe0fc1b2f  offer completed  ...     90K-105K     40-49\n",
              "3  9fa9ae8f57894cc9a3b8a9bbe0fc1b2f  offer completed  ...     90K-105K     40-49\n",
              "4  fe97aa22dd3e48c8b143116a8403dd52  offer completed  ...      60K-75K     30-39\n",
              "\n",
              "[5 rows x 13 columns]"
            ]
          },
          "metadata": {
            "tags": []
          },
          "execution_count": 84
        }
      ]
    },
    {
      "cell_type": "markdown",
      "metadata": {
        "id": "K9HbwROnk2d0",
        "colab_type": "text"
      },
      "source": [
        "# Analysis"
      ]
    },
    {
      "cell_type": "code",
      "metadata": {
        "id": "gkSXqW-5k2d1",
        "colab_type": "code",
        "colab": {}
      },
      "source": [
        "## Create a function to group selected columns and make bar plot\n",
        "def groupby_count(offer_view_profile, columns, titlename):\n",
        "    \"\"\"\n",
        "    Input: \n",
        "    offer_view_profile: a dataframe using to group by feature of people\n",
        "    columns: the columns used to group by and count\n",
        "    titlename: a part of title name we want to show above the bar plot\n",
        "    Output:\n",
        "    Bar plot: y axis is response rate, x axis is selected columns used to group by \n",
        "    \"\"\"\n",
        "    ## Group by people who view the offer and count\n",
        "    person_view = offer_view_profile[['person', columns]].groupby(columns).agg('count')\n",
        "    ## Group by people who complete the offer and count\n",
        "    person_comp = offer_comp_ppo_profile[['person', columns]].groupby(columns).agg('count')\n",
        "    respon_rate = person_comp/person_view\n",
        "    respon_rate = respon_rate.reset_index()\n",
        "    ### Responsive Rate Bar Plot for each group\n",
        "    height = respon_rate['person']\n",
        "    bars = respon_rate[columns]\n",
        "    y_pos = np.arange(len(bars))\n",
        "\n",
        "    # Create bars\n",
        "    plt.bar(y_pos, height)\n",
        "    # Create names on the x-axis\n",
        "    plt.xticks(y_pos, bars)\n",
        "    plt.title('Responsive Rate for Each '+ titlename)\n",
        "    plt.xlabel(titlename)\n",
        "    plt.ylabel('Responsive Rate')\n",
        "    # Show graphic\n",
        "    plt.show()\n",
        "    return None"
      ],
      "execution_count": 85,
      "outputs": []
    },
    {
      "cell_type": "code",
      "metadata": {
        "id": "ReOoGFBYk2d3",
        "colab_type": "code",
        "colab": {
          "base_uri": "https://localhost:8080/",
          "height": 301
        },
        "outputId": "c0521a14-3c0c-4550-ea50-ad41abee62d7"
      },
      "source": [
        "## Group by agerange and create bar plot\n",
        "groupby_count(offer_view_profile, 'agerange', 'Age Group')"
      ],
      "execution_count": 86,
      "outputs": [
        {
          "output_type": "display_data",
          "data": {
            "image/png": "[encoded data removed]",
            "text/plain": [
              "<Figure size 432x288 with 1 Axes>"
            ]
          },
          "metadata": {
            "tags": [],
            "needs_background": "light"
          }
        }
      ]
    },
    {
      "cell_type": "code",
      "metadata": {
        "id": "cgDXOlhfk2d7",
        "colab_type": "code",
        "colab": {
          "base_uri": "https://localhost:8080/",
          "height": 82
        },
        "outputId": "6eb76d1b-4fbf-4b79-8d96-f93ca59058f4"
      },
      "source": [
        "offer_view_profile.columns"
      ],
      "execution_count": 87,
      "outputs": [
        {
          "output_type": "execute_result",
          "data": {
            "text/plain": [
              "Index(['person', 'event', 'time', 'amount', 'reward', 'offer_id', 'gender',\n",
              "       'age', 'became_member_on', 'income', 'year_member', 'IncomeRange',\n",
              "       'agerange'],\n",
              "      dtype='object')"
            ]
          },
          "metadata": {
            "tags": []
          },
          "execution_count": 87
        }
      ]
    },
    {
      "cell_type": "code",
      "metadata": {
        "id": "FfwKZt6vk2d-",
        "colab_type": "code",
        "colab": {
          "base_uri": "https://localhost:8080/",
          "height": 301
        },
        "outputId": "8c11d8b5-9ba7-40e1-a6b8-423672510dee"
      },
      "source": [
        "## Group by gender and create bar plot\n",
        "groupby_count(offer_view_profile, 'gender', 'Gender')"
      ],
      "execution_count": 88,
      "outputs": [
        {
          "output_type": "display_data",
          "data": {
            "image/png": "[encoded data removed]",
            "text/plain": [
              "<Figure size 432x288 with 1 Axes>"
            ]
          },
          "metadata": {
            "tags": [],
            "needs_background": "light"
          }
        }
      ]
    },
    {
      "cell_type": "code",
      "metadata": {
        "id": "EA6m_4KXk2eA",
        "colab_type": "code",
        "colab": {
          "base_uri": "https://localhost:8080/",
          "height": 301
        },
        "outputId": "97648d82-034b-433f-e1e9-3ad70abb7cbe"
      },
      "source": [
        "## Group by year and create bar plot\n",
        "groupby_count(offer_view_profile, 'year_member', 'Year Becoming Member')"
      ],
      "execution_count": 89,
      "outputs": [
        {
          "output_type": "display_data",
          "data": {
            "image/png": "[encoded data removed]",
            "text/plain": [
              "<Figure size 432x288 with 1 Axes>"
            ]
          },
          "metadata": {
            "tags": [],
            "needs_background": "light"
          }
        }
      ]
    },
    {
      "cell_type": "code",
      "metadata": {
        "id": "ASdEfLTlk2eD",
        "colab_type": "code",
        "colab": {}
      },
      "source": [
        ""
      ],
      "execution_count": 89,
      "outputs": []
    },
    {
      "cell_type": "code",
      "metadata": {
        "id": "mUsdhYG-k2eF",
        "colab_type": "code",
        "colab": {
          "base_uri": "https://localhost:8080/",
          "height": 301
        },
        "outputId": "c15074b2-f201-4351-b53d-67761859bee8"
      },
      "source": [
        "## Group by incomerange and create bar plot\n",
        "groupby_count(offer_view_profile, 'IncomeRange', 'Income Group')"
      ],
      "execution_count": 90,
      "outputs": [
        {
          "output_type": "display_data",
          "data": {
            "image/png": "[encoded data removed]",
            "text/plain": [
              "<Figure size 432x288 with 1 Axes>"
            ]
          },
          "metadata": {
            "tags": [],
            "needs_background": "light"
          }
        }
      ]
    },
    {
      "cell_type": "markdown",
      "metadata": {
        "id": "aZAUJwlFk2eI",
        "colab_type": "text"
      },
      "source": [
        "# Build Model"
      ]
    },
    {
      "cell_type": "markdown",
      "metadata": {
        "id": "x1HYq_jUk2eJ",
        "colab_type": "text"
      },
      "source": [
        "Here I choose if the person has responded to the offer when they view offer as the predicted label. The reason why we choose this, is to figure out what kind of customer will respond to offer and what kind of customers never repond to offer. This metric is to help target towards to customer who will respond to the offer.\n",
        "\n",
        "Event = 1; It means the person has reponded to the offer challenge \n",
        "\n",
        "Event = 0; It means the person has not responded to the offer challenge"
      ]
    },
    {
      "cell_type": "markdown",
      "metadata": {
        "id": "WFFHwivek2eL",
        "colab_type": "text"
      },
      "source": [
        "# Pre-processing the data for build model"
      ]
    },
    {
      "cell_type": "markdown",
      "metadata": {
        "id": "Q-4VZ39ik2eQ",
        "colab_type": "text"
      },
      "source": [
        "### select the unique customer who veiw and complete offer, then label them as one"
      ]
    },
    {
      "cell_type": "code",
      "metadata": {
        "id": "B3e7Bwrvk2eV",
        "colab_type": "code",
        "colab": {}
      },
      "source": [
        "offer_view_and_comp = offer_comp_ppo_profile\n",
        "offer_view_and_comp = offer_view_and_comp.drop_duplicates(subset = ['person'], keep = 'first')"
      ],
      "execution_count": 91,
      "outputs": []
    },
    {
      "cell_type": "code",
      "metadata": {
        "scrolled": true,
        "id": "Mi4_szZGk2eY",
        "colab_type": "code",
        "colab": {
          "base_uri": "https://localhost:8080/",
          "height": 115
        },
        "outputId": "62e58b78-d2ce-4f82-b6eb-3df67de47fb7"
      },
      "source": [
        "offer_view_and_comp['event'] = offer_view_and_comp['event'].replace('offer completed', 1)"
      ],
      "execution_count": 92,
      "outputs": [
        {
          "output_type": "stream",
          "text": [
            "/usr/local/lib/python3.6/dist-packages/ipykernel_launcher.py:1: SettingWithCopyWarning: \n",
            "A value is trying to be set on a copy of a slice from a DataFrame.\n",
            "Try using .loc[row_indexer,col_indexer] = value instead\n",
            "\n",
            "See the caveats in the documentation: https://pandas.pydata.org/pandas-docs/stable/user_guide/indexing.html#returning-a-view-versus-a-copy\n",
            "  \"\"\"Entry point for launching an IPython kernel.\n"
          ],
          "name": "stderr"
        }
      ]
    },
    {
      "cell_type": "code",
      "metadata": {
        "id": "HmGV2Dymk2ec",
        "colab_type": "code",
        "colab": {
          "base_uri": "https://localhost:8080/",
          "height": 211
        },
        "outputId": "1469283a-af6b-468e-d64c-28a600dd569c"
      },
      "source": [
        "offer_view_and_comp.head()"
      ],
      "execution_count": 93,
      "outputs": [
        {
          "output_type": "execute_result",
          "data": {
            "text/html": [
              "<div>\n",
              "<style scoped>\n",
              "    .dataframe tbody tr th:only-of-type {\n",
              "        vertical-align: middle;\n",
              "    }\n",
              "\n",
              "    .dataframe tbody tr th {\n",
              "        vertical-align: top;\n",
              "    }\n",
              "\n",
              "    .dataframe thead th {\n",
              "        text-align: right;\n",
              "    }\n",
              "</style>\n",
              "<table border=\"1\" class=\"dataframe\">\n",
              "  <thead>\n",
              "    <tr style=\"text-align: right;\">\n",
              "      <th></th>\n",
              "      <th>person</th>\n",
              "      <th>event</th>\n",
              "      <th>time</th>\n",
              "      <th>amount</th>\n",
              "      <th>reward</th>\n",
              "      <th>offer_id</th>\n",
              "      <th>gender</th>\n",
              "      <th>age</th>\n",
              "      <th>became_member_on</th>\n",
              "      <th>income</th>\n",
              "      <th>year_member</th>\n",
              "      <th>IncomeRange</th>\n",
              "      <th>agerange</th>\n",
              "    </tr>\n",
              "  </thead>\n",
              "  <tbody>\n",
              "    <tr>\n",
              "      <th>0</th>\n",
              "      <td>9fa9ae8f57894cc9a3b8a9bbe0fc1b2f</td>\n",
              "      <td>1</td>\n",
              "      <td>0</td>\n",
              "      <td>NaN</td>\n",
              "      <td>2.0</td>\n",
              "      <td>NaN</td>\n",
              "      <td>M</td>\n",
              "      <td>42</td>\n",
              "      <td>20160117</td>\n",
              "      <td>96000.0</td>\n",
              "      <td>2016</td>\n",
              "      <td>90K-105K</td>\n",
              "      <td>40-49</td>\n",
              "    </tr>\n",
              "    <tr>\n",
              "      <th>4</th>\n",
              "      <td>fe97aa22dd3e48c8b143116a8403dd52</td>\n",
              "      <td>1</td>\n",
              "      <td>0</td>\n",
              "      <td>NaN</td>\n",
              "      <td>2.0</td>\n",
              "      <td>NaN</td>\n",
              "      <td>F</td>\n",
              "      <td>39</td>\n",
              "      <td>20171217</td>\n",
              "      <td>67000.0</td>\n",
              "      <td>2017</td>\n",
              "      <td>60K-75K</td>\n",
              "      <td>30-39</td>\n",
              "    </tr>\n",
              "    <tr>\n",
              "      <th>5</th>\n",
              "      <td>629fc02d56414d91bca360decdfa9288</td>\n",
              "      <td>1</td>\n",
              "      <td>0</td>\n",
              "      <td>NaN</td>\n",
              "      <td>5.0</td>\n",
              "      <td>NaN</td>\n",
              "      <td>M</td>\n",
              "      <td>52</td>\n",
              "      <td>20180605</td>\n",
              "      <td>72000.0</td>\n",
              "      <td>2018</td>\n",
              "      <td>60K-75K</td>\n",
              "      <td>50-59</td>\n",
              "    </tr>\n",
              "    <tr>\n",
              "      <th>8</th>\n",
              "      <td>676506bad68e4161b9bbaffeb039626b</td>\n",
              "      <td>1</td>\n",
              "      <td>0</td>\n",
              "      <td>NaN</td>\n",
              "      <td>10.0</td>\n",
              "      <td>NaN</td>\n",
              "      <td>M</td>\n",
              "      <td>37</td>\n",
              "      <td>20170515</td>\n",
              "      <td>92000.0</td>\n",
              "      <td>2017</td>\n",
              "      <td>90K-105K</td>\n",
              "      <td>30-39</td>\n",
              "    </tr>\n",
              "    <tr>\n",
              "      <th>10</th>\n",
              "      <td>8f7dd3b2afe14c078eb4f6e6fe4ba97d</td>\n",
              "      <td>1</td>\n",
              "      <td>0</td>\n",
              "      <td>NaN</td>\n",
              "      <td>10.0</td>\n",
              "      <td>NaN</td>\n",
              "      <td>M</td>\n",
              "      <td>48</td>\n",
              "      <td>20150903</td>\n",
              "      <td>62000.0</td>\n",
              "      <td>2015</td>\n",
              "      <td>60K-75K</td>\n",
              "      <td>40-49</td>\n",
              "    </tr>\n",
              "  </tbody>\n",
              "</table>\n",
              "</div>"
            ],
            "text/plain": [
              "                              person  event  ...  IncomeRange  agerange\n",
              "0   9fa9ae8f57894cc9a3b8a9bbe0fc1b2f      1  ...     90K-105K     40-49\n",
              "4   fe97aa22dd3e48c8b143116a8403dd52      1  ...      60K-75K     30-39\n",
              "5   629fc02d56414d91bca360decdfa9288      1  ...      60K-75K     50-59\n",
              "8   676506bad68e4161b9bbaffeb039626b      1  ...     90K-105K     30-39\n",
              "10  8f7dd3b2afe14c078eb4f6e6fe4ba97d      1  ...      60K-75K     40-49\n",
              "\n",
              "[5 rows x 13 columns]"
            ]
          },
          "metadata": {
            "tags": []
          },
          "execution_count": 93
        }
      ]
    },
    {
      "cell_type": "markdown",
      "metadata": {
        "id": "-bKRsScxk2eg",
        "colab_type": "text"
      },
      "source": [
        "### select the unique customer who view and not complete offer, then label them as zero"
      ]
    },
    {
      "cell_type": "code",
      "metadata": {
        "id": "7r4BJzxSk2eh",
        "colab_type": "code",
        "colab": {}
      },
      "source": [
        "offer_view_not_comp = offer_view_df[~offer_view_df['person'].isin(ppo_view_comp)]\n",
        "offer_view_not_comp = offer_view_not_comp.drop_duplicates(subset = ['person'], keep = 'first')"
      ],
      "execution_count": 94,
      "outputs": []
    },
    {
      "cell_type": "code",
      "metadata": {
        "id": "slf8aV2mk2el",
        "colab_type": "code",
        "colab": {}
      },
      "source": [
        "offer_view_not_comp = pd.merge(offer_view_not_comp, profile, on = 'person', how = 'inner')"
      ],
      "execution_count": 95,
      "outputs": []
    },
    {
      "cell_type": "code",
      "metadata": {
        "id": "duKhqoVMk2eo",
        "colab_type": "code",
        "colab": {
          "base_uri": "https://localhost:8080/",
          "height": 292
        },
        "outputId": "1a86abae-f651-4656-8af1-bf212a2f0980"
      },
      "source": [
        "offer_view_not_comp.head()"
      ],
      "execution_count": 96,
      "outputs": [
        {
          "output_type": "execute_result",
          "data": {
            "text/html": [
              "<div>\n",
              "<style scoped>\n",
              "    .dataframe tbody tr th:only-of-type {\n",
              "        vertical-align: middle;\n",
              "    }\n",
              "\n",
              "    .dataframe tbody tr th {\n",
              "        vertical-align: top;\n",
              "    }\n",
              "\n",
              "    .dataframe thead th {\n",
              "        text-align: right;\n",
              "    }\n",
              "</style>\n",
              "<table border=\"1\" class=\"dataframe\">\n",
              "  <thead>\n",
              "    <tr style=\"text-align: right;\">\n",
              "      <th></th>\n",
              "      <th>person</th>\n",
              "      <th>event</th>\n",
              "      <th>time</th>\n",
              "      <th>amount</th>\n",
              "      <th>reward</th>\n",
              "      <th>offer_id</th>\n",
              "      <th>gender</th>\n",
              "      <th>age</th>\n",
              "      <th>became_member_on</th>\n",
              "      <th>income</th>\n",
              "      <th>year_member</th>\n",
              "      <th>IncomeRange</th>\n",
              "      <th>agerange</th>\n",
              "    </tr>\n",
              "  </thead>\n",
              "  <tbody>\n",
              "    <tr>\n",
              "      <th>0</th>\n",
              "      <td>02c083884c7d45b39cc68e1314fec56c</td>\n",
              "      <td>offer viewed</td>\n",
              "      <td>0</td>\n",
              "      <td>NaN</td>\n",
              "      <td>NaN</td>\n",
              "      <td>ae264e3637204a6fb9bb56bc8210ddfd</td>\n",
              "      <td>F</td>\n",
              "      <td>20</td>\n",
              "      <td>20160711</td>\n",
              "      <td>30000.0</td>\n",
              "      <td>2016</td>\n",
              "      <td>30K-45K</td>\n",
              "      <td>18-29</td>\n",
              "    </tr>\n",
              "    <tr>\n",
              "      <th>1</th>\n",
              "      <td>e528ceb341964128aaf58a59733ec2af</td>\n",
              "      <td>offer viewed</td>\n",
              "      <td>0</td>\n",
              "      <td>NaN</td>\n",
              "      <td>NaN</td>\n",
              "      <td>2298d6c36e964ae4a3e7e9706d1fb8c2</td>\n",
              "      <td>F</td>\n",
              "      <td>46</td>\n",
              "      <td>20180629</td>\n",
              "      <td>36000.0</td>\n",
              "      <td>2018</td>\n",
              "      <td>30K-45K</td>\n",
              "      <td>40-49</td>\n",
              "    </tr>\n",
              "    <tr>\n",
              "      <th>2</th>\n",
              "      <td>262ad0fb526a4d53b572007da60cce24</td>\n",
              "      <td>offer viewed</td>\n",
              "      <td>0</td>\n",
              "      <td>NaN</td>\n",
              "      <td>NaN</td>\n",
              "      <td>f19421c1d4aa40978ebb69ca19b0e20d</td>\n",
              "      <td>M</td>\n",
              "      <td>40</td>\n",
              "      <td>20180227</td>\n",
              "      <td>53000.0</td>\n",
              "      <td>2018</td>\n",
              "      <td>45K-60K</td>\n",
              "      <td>30-39</td>\n",
              "    </tr>\n",
              "    <tr>\n",
              "      <th>3</th>\n",
              "      <td>182e68952b474700b171e21b85c258ac</td>\n",
              "      <td>offer viewed</td>\n",
              "      <td>0</td>\n",
              "      <td>NaN</td>\n",
              "      <td>NaN</td>\n",
              "      <td>f19421c1d4aa40978ebb69ca19b0e20d</td>\n",
              "      <td>None</td>\n",
              "      <td>118</td>\n",
              "      <td>20170823</td>\n",
              "      <td>64000.0</td>\n",
              "      <td>2017</td>\n",
              "      <td>60K-75K</td>\n",
              "      <td>70+</td>\n",
              "    </tr>\n",
              "    <tr>\n",
              "      <th>4</th>\n",
              "      <td>c099206f76b1414db7552f163520053c</td>\n",
              "      <td>offer viewed</td>\n",
              "      <td>0</td>\n",
              "      <td>NaN</td>\n",
              "      <td>NaN</td>\n",
              "      <td>9b98b8c7a33c4b65b9aebfe6a799e6d9</td>\n",
              "      <td>None</td>\n",
              "      <td>118</td>\n",
              "      <td>20150730</td>\n",
              "      <td>64000.0</td>\n",
              "      <td>2015</td>\n",
              "      <td>60K-75K</td>\n",
              "      <td>70+</td>\n",
              "    </tr>\n",
              "  </tbody>\n",
              "</table>\n",
              "</div>"
            ],
            "text/plain": [
              "                             person         event  ...  IncomeRange  agerange\n",
              "0  02c083884c7d45b39cc68e1314fec56c  offer viewed  ...      30K-45K     18-29\n",
              "1  e528ceb341964128aaf58a59733ec2af  offer viewed  ...      30K-45K     40-49\n",
              "2  262ad0fb526a4d53b572007da60cce24  offer viewed  ...      45K-60K     30-39\n",
              "3  182e68952b474700b171e21b85c258ac  offer viewed  ...      60K-75K       70+\n",
              "4  c099206f76b1414db7552f163520053c  offer viewed  ...      60K-75K       70+\n",
              "\n",
              "[5 rows x 13 columns]"
            ]
          },
          "metadata": {
            "tags": []
          },
          "execution_count": 96
        }
      ]
    },
    {
      "cell_type": "code",
      "metadata": {
        "scrolled": true,
        "id": "FgGjWYoOk2eu",
        "colab_type": "code",
        "colab": {
          "base_uri": "https://localhost:8080/",
          "height": 211
        },
        "outputId": "8e43ed29-5a94-4d03-fd9c-f6fe637489bd"
      },
      "source": [
        "offer_view_not_comp['event'] = offer_view_not_comp['event'].replace('offer viewed', 0)\n",
        "offer_view_not_comp.head()"
      ],
      "execution_count": 97,
      "outputs": [
        {
          "output_type": "execute_result",
          "data": {
            "text/html": [
              "<div>\n",
              "<style scoped>\n",
              "    .dataframe tbody tr th:only-of-type {\n",
              "        vertical-align: middle;\n",
              "    }\n",
              "\n",
              "    .dataframe tbody tr th {\n",
              "        vertical-align: top;\n",
              "    }\n",
              "\n",
              "    .dataframe thead th {\n",
              "        text-align: right;\n",
              "    }\n",
              "</style>\n",
              "<table border=\"1\" class=\"dataframe\">\n",
              "  <thead>\n",
              "    <tr style=\"text-align: right;\">\n",
              "      <th></th>\n",
              "      <th>person</th>\n",
              "      <th>event</th>\n",
              "      <th>time</th>\n",
              "      <th>amount</th>\n",
              "      <th>reward</th>\n",
              "      <th>offer_id</th>\n",
              "      <th>gender</th>\n",
              "      <th>age</th>\n",
              "      <th>became_member_on</th>\n",
              "      <th>income</th>\n",
              "      <th>year_member</th>\n",
              "      <th>IncomeRange</th>\n",
              "      <th>agerange</th>\n",
              "    </tr>\n",
              "  </thead>\n",
              "  <tbody>\n",
              "    <tr>\n",
              "      <th>0</th>\n",
              "      <td>02c083884c7d45b39cc68e1314fec56c</td>\n",
              "      <td>0</td>\n",
              "      <td>0</td>\n",
              "      <td>NaN</td>\n",
              "      <td>NaN</td>\n",
              "      <td>ae264e3637204a6fb9bb56bc8210ddfd</td>\n",
              "      <td>F</td>\n",
              "      <td>20</td>\n",
              "      <td>20160711</td>\n",
              "      <td>30000.0</td>\n",
              "      <td>2016</td>\n",
              "      <td>30K-45K</td>\n",
              "      <td>18-29</td>\n",
              "    </tr>\n",
              "    <tr>\n",
              "      <th>1</th>\n",
              "      <td>e528ceb341964128aaf58a59733ec2af</td>\n",
              "      <td>0</td>\n",
              "      <td>0</td>\n",
              "      <td>NaN</td>\n",
              "      <td>NaN</td>\n",
              "      <td>2298d6c36e964ae4a3e7e9706d1fb8c2</td>\n",
              "      <td>F</td>\n",
              "      <td>46</td>\n",
              "      <td>20180629</td>\n",
              "      <td>36000.0</td>\n",
              "      <td>2018</td>\n",
              "      <td>30K-45K</td>\n",
              "      <td>40-49</td>\n",
              "    </tr>\n",
              "    <tr>\n",
              "      <th>2</th>\n",
              "      <td>262ad0fb526a4d53b572007da60cce24</td>\n",
              "      <td>0</td>\n",
              "      <td>0</td>\n",
              "      <td>NaN</td>\n",
              "      <td>NaN</td>\n",
              "      <td>f19421c1d4aa40978ebb69ca19b0e20d</td>\n",
              "      <td>M</td>\n",
              "      <td>40</td>\n",
              "      <td>20180227</td>\n",
              "      <td>53000.0</td>\n",
              "      <td>2018</td>\n",
              "      <td>45K-60K</td>\n",
              "      <td>30-39</td>\n",
              "    </tr>\n",
              "    <tr>\n",
              "      <th>3</th>\n",
              "      <td>182e68952b474700b171e21b85c258ac</td>\n",
              "      <td>0</td>\n",
              "      <td>0</td>\n",
              "      <td>NaN</td>\n",
              "      <td>NaN</td>\n",
              "      <td>f19421c1d4aa40978ebb69ca19b0e20d</td>\n",
              "      <td>None</td>\n",
              "      <td>118</td>\n",
              "      <td>20170823</td>\n",
              "      <td>64000.0</td>\n",
              "      <td>2017</td>\n",
              "      <td>60K-75K</td>\n",
              "      <td>70+</td>\n",
              "    </tr>\n",
              "    <tr>\n",
              "      <th>4</th>\n",
              "      <td>c099206f76b1414db7552f163520053c</td>\n",
              "      <td>0</td>\n",
              "      <td>0</td>\n",
              "      <td>NaN</td>\n",
              "      <td>NaN</td>\n",
              "      <td>9b98b8c7a33c4b65b9aebfe6a799e6d9</td>\n",
              "      <td>None</td>\n",
              "      <td>118</td>\n",
              "      <td>20150730</td>\n",
              "      <td>64000.0</td>\n",
              "      <td>2015</td>\n",
              "      <td>60K-75K</td>\n",
              "      <td>70+</td>\n",
              "    </tr>\n",
              "  </tbody>\n",
              "</table>\n",
              "</div>"
            ],
            "text/plain": [
              "                             person  event  ...  IncomeRange  agerange\n",
              "0  02c083884c7d45b39cc68e1314fec56c      0  ...      30K-45K     18-29\n",
              "1  e528ceb341964128aaf58a59733ec2af      0  ...      30K-45K     40-49\n",
              "2  262ad0fb526a4d53b572007da60cce24      0  ...      45K-60K     30-39\n",
              "3  182e68952b474700b171e21b85c258ac      0  ...      60K-75K       70+\n",
              "4  c099206f76b1414db7552f163520053c      0  ...      60K-75K       70+\n",
              "\n",
              "[5 rows x 13 columns]"
            ]
          },
          "metadata": {
            "tags": []
          },
          "execution_count": 97
        }
      ]
    },
    {
      "cell_type": "code",
      "metadata": {
        "id": "T8X7QbUkk2ey",
        "colab_type": "code",
        "colab": {
          "base_uri": "https://localhost:8080/",
          "height": 33
        },
        "outputId": "d45f3110-c882-4cdf-9db3-f2ed0ae3af7f"
      },
      "source": [
        "print('The length of record for customer view but not complete is {}, for customer view and complete is {}'.format(len(offer_view_not_comp),len(offer_view_and_comp)))"
      ],
      "execution_count": 98,
      "outputs": [
        {
          "output_type": "stream",
          "text": [
            "The length of record for customer view but not complete is 4133, for customer view and complete is 12701\n"
          ],
          "name": "stdout"
        }
      ]
    },
    {
      "cell_type": "markdown",
      "metadata": {
        "id": "mscgDkfUk2e1",
        "colab_type": "text"
      },
      "source": [
        "### combine two dataset together"
      ]
    },
    {
      "cell_type": "code",
      "metadata": {
        "id": "EcrGbSO3k2e2",
        "colab_type": "code",
        "colab": {
          "base_uri": "https://localhost:8080/",
          "height": 82
        },
        "outputId": "52b7f21a-3d55-4359-f4eb-bb506e95dca7"
      },
      "source": [
        "offer_view_and_comp.columns"
      ],
      "execution_count": 99,
      "outputs": [
        {
          "output_type": "execute_result",
          "data": {
            "text/plain": [
              "Index(['person', 'event', 'time', 'amount', 'reward', 'offer_id', 'gender',\n",
              "       'age', 'became_member_on', 'income', 'year_member', 'IncomeRange',\n",
              "       'agerange'],\n",
              "      dtype='object')"
            ]
          },
          "metadata": {
            "tags": []
          },
          "execution_count": 99
        }
      ]
    },
    {
      "cell_type": "code",
      "metadata": {
        "id": "rjxelkdRk2e5",
        "colab_type": "code",
        "colab": {
          "base_uri": "https://localhost:8080/",
          "height": 82
        },
        "outputId": "8f2a41b8-e0e1-4d49-d509-f6cfe6491634"
      },
      "source": [
        "offer_view_not_comp.columns"
      ],
      "execution_count": 100,
      "outputs": [
        {
          "output_type": "execute_result",
          "data": {
            "text/plain": [
              "Index(['person', 'event', 'time', 'amount', 'reward', 'offer_id', 'gender',\n",
              "       'age', 'became_member_on', 'income', 'year_member', 'IncomeRange',\n",
              "       'agerange'],\n",
              "      dtype='object')"
            ]
          },
          "metadata": {
            "tags": []
          },
          "execution_count": 100
        }
      ]
    },
    {
      "cell_type": "code",
      "metadata": {
        "id": "o0d09DyCk2e8",
        "colab_type": "code",
        "colab": {}
      },
      "source": [
        "df = pd.concat([offer_view_and_comp, offer_view_not_comp])"
      ],
      "execution_count": 101,
      "outputs": []
    },
    {
      "cell_type": "code",
      "metadata": {
        "id": "5JFelmVek2fC",
        "colab_type": "code",
        "colab": {
          "base_uri": "https://localhost:8080/",
          "height": 211
        },
        "outputId": "91c70747-8866-455b-cc21-d009ab9eaf86"
      },
      "source": [
        "df.head()"
      ],
      "execution_count": 102,
      "outputs": [
        {
          "output_type": "execute_result",
          "data": {
            "text/html": [
              "<div>\n",
              "<style scoped>\n",
              "    .dataframe tbody tr th:only-of-type {\n",
              "        vertical-align: middle;\n",
              "    }\n",
              "\n",
              "    .dataframe tbody tr th {\n",
              "        vertical-align: top;\n",
              "    }\n",
              "\n",
              "    .dataframe thead th {\n",
              "        text-align: right;\n",
              "    }\n",
              "</style>\n",
              "<table border=\"1\" class=\"dataframe\">\n",
              "  <thead>\n",
              "    <tr style=\"text-align: right;\">\n",
              "      <th></th>\n",
              "      <th>person</th>\n",
              "      <th>event</th>\n",
              "      <th>time</th>\n",
              "      <th>amount</th>\n",
              "      <th>reward</th>\n",
              "      <th>offer_id</th>\n",
              "      <th>gender</th>\n",
              "      <th>age</th>\n",
              "      <th>became_member_on</th>\n",
              "      <th>income</th>\n",
              "      <th>year_member</th>\n",
              "      <th>IncomeRange</th>\n",
              "      <th>agerange</th>\n",
              "    </tr>\n",
              "  </thead>\n",
              "  <tbody>\n",
              "    <tr>\n",
              "      <th>0</th>\n",
              "      <td>9fa9ae8f57894cc9a3b8a9bbe0fc1b2f</td>\n",
              "      <td>1</td>\n",
              "      <td>0</td>\n",
              "      <td>NaN</td>\n",
              "      <td>2.0</td>\n",
              "      <td>NaN</td>\n",
              "      <td>M</td>\n",
              "      <td>42</td>\n",
              "      <td>20160117</td>\n",
              "      <td>96000.0</td>\n",
              "      <td>2016</td>\n",
              "      <td>90K-105K</td>\n",
              "      <td>40-49</td>\n",
              "    </tr>\n",
              "    <tr>\n",
              "      <th>4</th>\n",
              "      <td>fe97aa22dd3e48c8b143116a8403dd52</td>\n",
              "      <td>1</td>\n",
              "      <td>0</td>\n",
              "      <td>NaN</td>\n",
              "      <td>2.0</td>\n",
              "      <td>NaN</td>\n",
              "      <td>F</td>\n",
              "      <td>39</td>\n",
              "      <td>20171217</td>\n",
              "      <td>67000.0</td>\n",
              "      <td>2017</td>\n",
              "      <td>60K-75K</td>\n",
              "      <td>30-39</td>\n",
              "    </tr>\n",
              "    <tr>\n",
              "      <th>5</th>\n",
              "      <td>629fc02d56414d91bca360decdfa9288</td>\n",
              "      <td>1</td>\n",
              "      <td>0</td>\n",
              "      <td>NaN</td>\n",
              "      <td>5.0</td>\n",
              "      <td>NaN</td>\n",
              "      <td>M</td>\n",
              "      <td>52</td>\n",
              "      <td>20180605</td>\n",
              "      <td>72000.0</td>\n",
              "      <td>2018</td>\n",
              "      <td>60K-75K</td>\n",
              "      <td>50-59</td>\n",
              "    </tr>\n",
              "    <tr>\n",
              "      <th>8</th>\n",
              "      <td>676506bad68e4161b9bbaffeb039626b</td>\n",
              "      <td>1</td>\n",
              "      <td>0</td>\n",
              "      <td>NaN</td>\n",
              "      <td>10.0</td>\n",
              "      <td>NaN</td>\n",
              "      <td>M</td>\n",
              "      <td>37</td>\n",
              "      <td>20170515</td>\n",
              "      <td>92000.0</td>\n",
              "      <td>2017</td>\n",
              "      <td>90K-105K</td>\n",
              "      <td>30-39</td>\n",
              "    </tr>\n",
              "    <tr>\n",
              "      <th>10</th>\n",
              "      <td>8f7dd3b2afe14c078eb4f6e6fe4ba97d</td>\n",
              "      <td>1</td>\n",
              "      <td>0</td>\n",
              "      <td>NaN</td>\n",
              "      <td>10.0</td>\n",
              "      <td>NaN</td>\n",
              "      <td>M</td>\n",
              "      <td>48</td>\n",
              "      <td>20150903</td>\n",
              "      <td>62000.0</td>\n",
              "      <td>2015</td>\n",
              "      <td>60K-75K</td>\n",
              "      <td>40-49</td>\n",
              "    </tr>\n",
              "  </tbody>\n",
              "</table>\n",
              "</div>"
            ],
            "text/plain": [
              "                              person  event  ...  IncomeRange  agerange\n",
              "0   9fa9ae8f57894cc9a3b8a9bbe0fc1b2f      1  ...     90K-105K     40-49\n",
              "4   fe97aa22dd3e48c8b143116a8403dd52      1  ...      60K-75K     30-39\n",
              "5   629fc02d56414d91bca360decdfa9288      1  ...      60K-75K     50-59\n",
              "8   676506bad68e4161b9bbaffeb039626b      1  ...     90K-105K     30-39\n",
              "10  8f7dd3b2afe14c078eb4f6e6fe4ba97d      1  ...      60K-75K     40-49\n",
              "\n",
              "[5 rows x 13 columns]"
            ]
          },
          "metadata": {
            "tags": []
          },
          "execution_count": 102
        }
      ]
    },
    {
      "cell_type": "code",
      "metadata": {
        "id": "sU8JarJdk2fF",
        "colab_type": "code",
        "colab": {}
      },
      "source": [
        "def clean_data(df):\n",
        "    '''\n",
        "    INPUT\n",
        "    df - pandas dataframe \n",
        "    \n",
        "    OUTPUT\n",
        "    X - A matrix holding all of the variables you want to consider when predicting the response\n",
        "    y - the corresponding response vector\n",
        "    \n",
        "    This function cleans df using the following steps to produce X and y:\n",
        "    1. Drop all the rows with no salaries\n",
        "    2. Create X as all the columns that are not the Salary column\n",
        "    3. Create y as the Salary column\n",
        "    4. Drop the Salary, Respondent, and the ExpectedSalary columns from X\n",
        "    5. For each numeric variable in X, fill the column with the mean value of the column.\n",
        "    6. Create dummy columns for all the categorical variables in X, drop the original columns\n",
        "    '''\n",
        "    # Drop rows with missing salary values\n",
        "    df = df.dropna(how='all', axis=1)\n",
        "    Y = df['event']\n",
        "    \n",
        "    #Drop respondent and expected salary columns\n",
        "    df = df.drop(['event','person','reward','offer_id','became_member_on','IncomeRange','agerange'], axis=1)\n",
        "    \n",
        "    # Fill numeric columns with the mean\n",
        "    num_vars = df.select_dtypes(include=['float', 'int']).columns\n",
        "    for col in num_vars:\n",
        "        #df[col].fillna((0),inplace=True)\n",
        "        df[col].fillna((df[col].mean()), inplace=True)\n",
        "        \n",
        "    # Dummy the categorical variables\n",
        "    cat_vars = df.select_dtypes(include=['object']).copy().columns\n",
        "    for var in  cat_vars:\n",
        "        # for each cat add dummy var, drop original column\n",
        "        df = pd.concat([df.drop(var, axis=1), pd.get_dummies(df[var], prefix=var, prefix_sep='_', drop_first=True)], axis=1)\n",
        "    \n",
        "    X = df\n",
        "    return X, Y\n",
        "    \n",
        "#Use the function to create X and y\n",
        "X, Y = clean_data(df)  "
      ],
      "execution_count": 103,
      "outputs": []
    },
    {
      "cell_type": "code",
      "metadata": {
        "id": "QdqXYQWQk2fH",
        "colab_type": "code",
        "colab": {
          "base_uri": "https://localhost:8080/",
          "height": 82
        },
        "outputId": "52db3ff2-4b7c-4906-b230-195f766f1430"
      },
      "source": [
        "X.columns"
      ],
      "execution_count": 104,
      "outputs": [
        {
          "output_type": "execute_result",
          "data": {
            "text/plain": [
              "Index(['time', 'age', 'income', 'gender_M', 'gender_O', 'year_member_2014',\n",
              "       'year_member_2015', 'year_member_2016', 'year_member_2017',\n",
              "       'year_member_2018'],\n",
              "      dtype='object')"
            ]
          },
          "metadata": {
            "tags": []
          },
          "execution_count": 104
        }
      ]
    },
    {
      "cell_type": "markdown",
      "metadata": {
        "id": "LePvZJ3pk2fJ",
        "colab_type": "text"
      },
      "source": [
        "## Split Data into Train and Test Dataset"
      ]
    },
    {
      "cell_type": "code",
      "metadata": {
        "id": "tyhFHPD9k2fK",
        "colab_type": "code",
        "colab": {}
      },
      "source": [
        "# Use 20% of dataset as test dataset\n",
        "X_train, X_test, Y_train, Y_test = train_test_split(X, Y, test_size=0.2, random_state=0)\n",
        "# Use 10% of dataset as validation dataset; Use 70% of dataset as training dataset\n",
        "X_train, X_val, Y_train, Y_val = train_test_split(X_train, Y_train, test_size=0.1, random_state=0)"
      ],
      "execution_count": 105,
      "outputs": []
    },
    {
      "cell_type": "code",
      "metadata": {
        "id": "XIJ-Wv70k2fO",
        "colab_type": "code",
        "colab": {
          "base_uri": "https://localhost:8080/",
          "height": 66
        },
        "outputId": "6e266707-2c66-4f32-a244-1f5ef2bd4ebd"
      },
      "source": [
        "print('train:', X_train.shape, Y_train.shape)\n",
        "print('validation:', X_val.shape, Y_val.shape)\n",
        "print('test:', X_test.shape, Y_test.shape)"
      ],
      "execution_count": 106,
      "outputs": [
        {
          "output_type": "stream",
          "text": [
            "train: (12120, 10) (12120,)\n",
            "validation: (1347, 10) (1347,)\n",
            "test: (3367, 10) (3367,)\n"
          ],
          "name": "stdout"
        }
      ]
    },
    {
      "cell_type": "markdown",
      "metadata": {
        "id": "Ij7hijbuk2fV",
        "colab_type": "text"
      },
      "source": [
        "## Check the Size of Each Category\n",
        "\n",
        "From the plot below, we can notice that this class of 1 and 0 is not balance. \n",
        "\n",
        "To measure the prediction result accurately, we have to weight the accuracy rate based on the size of data"
      ]
    },
    {
      "cell_type": "code",
      "metadata": {
        "id": "RnOddWXgk2fW",
        "colab_type": "code",
        "colab": {
          "base_uri": "https://localhost:8080/",
          "height": 267
        },
        "outputId": "aa36b6da-0a3b-40b9-e1ef-5a1bc36fadd0"
      },
      "source": [
        "plt.hist(Y_train, bins=20);"
      ],
      "execution_count": 107,
      "outputs": [
        {
          "output_type": "display_data",
          "data": {
            "image/png": "[encoded data removed]",
            "text/plain": [
              "<Figure size 432x288 with 1 Axes>"
            ]
          },
          "metadata": {
            "tags": [],
            "needs_background": "light"
          }
        }
      ]
    },
    {
      "cell_type": "code",
      "metadata": {
        "id": "9gdHeQGRk2fd",
        "colab_type": "code",
        "colab": {
          "base_uri": "https://localhost:8080/",
          "height": 365
        },
        "outputId": "763393ee-f3f2-4f10-dbaa-64bf8cd4786b"
      },
      "source": [
        "plt.hist(Y_val, bins=20)"
      ],
      "execution_count": 108,
      "outputs": [
        {
          "output_type": "execute_result",
          "data": {
            "text/plain": [
              "(array([ 332.,    0.,    0.,    0.,    0.,    0.,    0.,    0.,    0.,\n",
              "           0.,    0.,    0.,    0.,    0.,    0.,    0.,    0.,    0.,\n",
              "           0., 1015.]),\n",
              " array([0.  , 0.05, 0.1 , 0.15, 0.2 , 0.25, 0.3 , 0.35, 0.4 , 0.45, 0.5 ,\n",
              "        0.55, 0.6 , 0.65, 0.7 , 0.75, 0.8 , 0.85, 0.9 , 0.95, 1.  ]),\n",
              " <a list of 20 Patch objects>)"
            ]
          },
          "metadata": {
            "tags": []
          },
          "execution_count": 108
        },
        {
          "output_type": "display_data",
          "data": {
            "image/png": "[encoded data removed]",
            "text/plain": [
              "<Figure size 432x288 with 1 Axes>"
            ]
          },
          "metadata": {
            "tags": [],
            "needs_background": "light"
          }
        }
      ]
    },
    {
      "cell_type": "code",
      "metadata": {
        "id": "Y6NhjRz-k2fj",
        "colab_type": "code",
        "colab": {
          "base_uri": "https://localhost:8080/",
          "height": 267
        },
        "outputId": "b7be5403-f7c1-4e62-f0f6-1f4a42ac2037"
      },
      "source": [
        "plt.hist(Y_test, bins=20);"
      ],
      "execution_count": 109,
      "outputs": [
        {
          "output_type": "display_data",
          "data": {
            "image/png": "[encoded data removed]",
            "text/plain": [
              "<Figure size 432x288 with 1 Axes>"
            ]
          },
          "metadata": {
            "tags": [],
            "needs_background": "light"
          }
        }
      ]
    },
    {
      "cell_type": "markdown",
      "metadata": {
        "id": "AuITpNH3k2fl",
        "colab_type": "text"
      },
      "source": [
        "## Metrics to measure the performance of model\n",
        "\n",
        "Accuracy rate is common for classifiction model. Since the size of label is imbalanced, here I will use a built-in module in sklearn for balanced accuracy \n",
        "\n",
        "sklearn.metrics.balanced_accuracy_score(y_true, y_pred, *, sample_weight=None, adjusted=False)[source]\n",
        "\n",
        "Here is the document link:\n",
        "https://scikit-learn.org/stable/modules/generated/sklearn.metrics.balanced_accuracy_score.html\n"
      ]
    },
    {
      "cell_type": "markdown",
      "metadata": {
        "id": "2N8lfgeQk2fo",
        "colab_type": "text"
      },
      "source": [
        "## Feature Normalization\n",
        "\n",
        "The reason to normalize the feature is because the some feature(like income) are much larger than other feature (like the dummy variable). The result is not that accurate if we don't normalize them"
      ]
    },
    {
      "cell_type": "code",
      "metadata": {
        "id": "n3QmtrmSk2fo",
        "colab_type": "code",
        "colab": {}
      },
      "source": [
        "#apply feature normalization to training, validation and test sets\n",
        "scaler=MinMaxScaler()\n",
        "scaler.fit(X_train)\n",
        "X_train=scaler.transform(X_train)\n",
        "X_val=scaler.transform(X_val)\n",
        "X_test=scaler.transform(X_test)"
      ],
      "execution_count": 111,
      "outputs": []
    },
    {
      "cell_type": "markdown",
      "metadata": {
        "id": "st5bj28fk2fs",
        "colab_type": "text"
      },
      "source": [
        "# Fit Classification Model"
      ]
    },
    {
      "cell_type": "markdown",
      "metadata": {
        "id": "_RvcRqcNk2ft",
        "colab_type": "text"
      },
      "source": [
        "## build a LogisticRegression classifier as the baseline model"
      ]
    },
    {
      "cell_type": "code",
      "metadata": {
        "id": "JRCYdV-jk2ft",
        "colab_type": "code",
        "colab": {
          "base_uri": "https://localhost:8080/",
          "height": 50
        },
        "outputId": "a53e3899-9e4a-4d78-bcdf-384659256e82"
      },
      "source": [
        "#set class_weight='balanced'\n",
        "LR=LogisticRegression(class_weight='balanced', solver='newton-cg', random_state=0)\n",
        "LR.fit(X_train, Y_train)\n",
        "Y_val_pred=LR.predict(X_val)\n",
        "confusion_val=confusion_matrix(Y_val, Y_val_pred)\n",
        "\n",
        "Y_test_pred=LR.predict(X_test)\n",
        "confusion_test=confusion_matrix(Y_test, Y_test_pred)\n",
        "\n",
        "acc_val = balanced_accuracy_score(Y_val, Y_val_pred)\n",
        "acc_test = balanced_accuracy_score(Y_test, Y_test_pred)\n",
        "print('classification accuracy on validation set is ', acc_val)\n",
        "print('classification accuracy on test set is ', acc_test)"
      ],
      "execution_count": 114,
      "outputs": [
        {
          "output_type": "stream",
          "text": [
            "classification accuracy on validation set is  0.7321146655587869\n",
            "classification accuracy on test set is  0.7499983432125203\n"
          ],
          "name": "stdout"
        }
      ]
    },
    {
      "cell_type": "code",
      "metadata": {
        "id": "FaGljb6Sk2fv",
        "colab_type": "code",
        "colab": {
          "base_uri": "https://localhost:8080/",
          "height": 98
        },
        "outputId": "974d2b2e-5dc0-4ebb-a03f-de266509a8a2"
      },
      "source": [
        "# Model Evaluation and Validation\n",
        "cv = cross_validate(LR, X_test, Y_test, cv=10)\n",
        "print('The performance of each validation fold:')\n",
        "print(cv['test_score'])\n",
        "print('The mean of performance of 10validation fold:')\n",
        "print(cv['test_score'].mean())"
      ],
      "execution_count": 143,
      "outputs": [
        {
          "output_type": "stream",
          "text": [
            "The performance of each validation fold:\n",
            "[0.75074184 0.71810089 0.74480712 0.72403561 0.7537092  0.73293769\n",
            " 0.7537092  0.7172619  0.74702381 0.76785714]\n",
            "The mean of performance of 10validation fold:\n",
            "0.7410184400169564\n"
          ],
          "name": "stdout"
        }
      ]
    },
    {
      "cell_type": "markdown",
      "metadata": {
        "id": "pvDj6Wn_k2f_",
        "colab_type": "text"
      },
      "source": [
        "## Decision Tree Classifier"
      ]
    },
    {
      "cell_type": "markdown",
      "metadata": {
        "id": "vXiFMnTdk2gA",
        "colab_type": "text"
      },
      "source": [
        "### Fit Model"
      ]
    },
    {
      "cell_type": "code",
      "metadata": {
        "id": "IJ_UrcV4k2gB",
        "colab_type": "code",
        "colab": {
          "base_uri": "https://localhost:8080/",
          "height": 50
        },
        "outputId": "df121a9f-41d5-4fd5-82e2-fea13e9637dc"
      },
      "source": [
        "#set class_weight='balanced'\n",
        "dt=DecisionTreeClassifier(class_weight='balanced', max_depth=20, random_state=0)\n",
        "dt.fit(X_train, Y_train)\n",
        "Y_val_pred=dt.predict(X_val)\n",
        "confusion_val=confusion_matrix(Y_val, Y_val_pred)\n",
        "Y_test_pred=dt.predict(X_test)\n",
        "confusion_test=confusion_matrix(Y_test, Y_test_pred)\n",
        "acc_val = balanced_accuracy_score(Y_val, Y_val_pred)\n",
        "acc_test = balanced_accuracy_score(Y_test, Y_test_pred)\n",
        "print('classification accuracy on validation set is ', acc_val)\n",
        "print('classification accuracy on test set is ', acc_test)"
      ],
      "execution_count": 135,
      "outputs": [
        {
          "output_type": "stream",
          "text": [
            "classification accuracy on validation set is  0.7303534334381863\n",
            "classification accuracy on test set is  0.7182583187299352\n"
          ],
          "name": "stdout"
        }
      ]
    },
    {
      "cell_type": "code",
      "metadata": {
        "id": "53_NcJ4O-JFT",
        "colab_type": "code",
        "colab": {}
      },
      "source": [
        ""
      ],
      "execution_count": null,
      "outputs": []
    },
    {
      "cell_type": "markdown",
      "metadata": {
        "id": "AykNAoS6k2gF",
        "colab_type": "text"
      },
      "source": [
        "### Tune parameter using validation dataset"
      ]
    },
    {
      "cell_type": "code",
      "metadata": {
        "id": "GRV-FPNLk2gG",
        "colab_type": "code",
        "colab": {
          "base_uri": "https://localhost:8080/",
          "height": 525
        },
        "outputId": "b113993d-a30d-4ce3-c1e3-4a2cbfc3013c"
      },
      "source": [
        "max_depth_list = np.arange(1,15)\n",
        "#train a DecisionTreeClassifier with max_depth in max_depth_list\n",
        "#inside a for loop:\n",
        "#   create a model with a max_depth in max_depth_list\n",
        "#   set class_weight to 'balanced'\n",
        "#   set random_state=0 so that the result is reproducible\n",
        "#   train the model on the training set\n",
        "#   record the accuracy on the training set into a list acc_train_list\n",
        "#   record the accuracy on the validation set into a list acc_val_list\n",
        "acc_train_list=[]\n",
        "acc_val_list=[]\n",
        "for i in max_depth_list:\n",
        "    dt=DecisionTreeClassifier(class_weight='balanced', max_depth=i, random_state=0)\n",
        "    dt.fit(X_train, Y_train)\n",
        "    Y_val_pred=dt.predict(X_val)\n",
        "    confusion_val=confusion_matrix(Y_val, Y_val_pred)\n",
        "    \n",
        "    acc_val = balanced_accuracy_score(Y_val, Y_val_pred)\n",
        "    Y_train_pred=dt.predict(X_train)\n",
        "    confusion_train=confusion_matrix(Y_train, Y_train_pred)\n",
        "    \n",
        "    acc_train = balanced_accuracy_score(Y_train, Y_train_pred)\n",
        "    acc_train_list.append(acc_train)\n",
        "    acc_val_list.append(acc_val)\n",
        "\n",
        "\n",
        "    print('classification accuracy on validation set is ', acc_val, 'with max_depth:',i)\n",
        "    print('classification accuracy on train set is ', acc_train,'with max_depth:',i)\n",
        "\n",
        "print(acc_train_list)\n",
        "print(acc_val_list)"
      ],
      "execution_count": 116,
      "outputs": [
        {
          "output_type": "stream",
          "text": [
            "classification accuracy on validation set is  0.6426508991631551 with max_depth: 1\n",
            "classification accuracy on train set is  0.6382710084059142 with max_depth: 1\n",
            "classification accuracy on validation set is  0.7054276218173186 with max_depth: 2\n",
            "classification accuracy on train set is  0.7128968749105892 with max_depth: 2\n",
            "classification accuracy on validation set is  0.7209789898510297 with max_depth: 3\n",
            "classification accuracy on train set is  0.7233446420402644 with max_depth: 3\n",
            "classification accuracy on validation set is  0.7272315864442993 with max_depth: 4\n",
            "classification accuracy on train set is  0.7402065128739967 with max_depth: 4\n",
            "classification accuracy on validation set is  0.7514659623716541 with max_depth: 5\n",
            "classification accuracy on train set is  0.7687809651385386 with max_depth: 5\n",
            "classification accuracy on validation set is  0.7636699507389162 with max_depth: 6\n",
            "classification accuracy on train set is  0.7797969293386433 with max_depth: 6\n",
            "classification accuracy on validation set is  0.7703691613745622 with max_depth: 7\n",
            "classification accuracy on train set is  0.7887829712547627 with max_depth: 7\n",
            "classification accuracy on validation set is  0.7708053890438602 with max_depth: 8\n",
            "classification accuracy on train set is  0.8022532242297745 with max_depth: 8\n",
            "classification accuracy on validation set is  0.766230933586563 with max_depth: 9\n",
            "classification accuracy on train set is  0.813710511905405 with max_depth: 9\n",
            "classification accuracy on validation set is  0.770228203454211 with max_depth: 10\n",
            "classification accuracy on train set is  0.8297678373393242 with max_depth: 10\n",
            "classification accuracy on validation set is  0.7630497358893702 with max_depth: 11\n",
            "classification accuracy on train set is  0.8460245040026768 with max_depth: 11\n",
            "classification accuracy on validation set is  0.7537465131461808 with max_depth: 12\n",
            "classification accuracy on train set is  0.8638294483058868 with max_depth: 12\n",
            "classification accuracy on validation set is  0.755224345658496 with max_depth: 13\n",
            "classification accuracy on train set is  0.8833396466341159 with max_depth: 13\n",
            "classification accuracy on validation set is  0.7515787287079352 with max_depth: 14\n",
            "classification accuracy on train set is  0.9027827903066143 with max_depth: 14\n",
            "[0.6382710084059142, 0.7128968749105892, 0.7233446420402644, 0.7402065128739967, 0.7687809651385386, 0.7797969293386433, 0.7887829712547627, 0.8022532242297745, 0.813710511905405, 0.8297678373393242, 0.8460245040026768, 0.8638294483058868, 0.8833396466341159, 0.9027827903066143]\n",
            "[0.6426508991631551, 0.7054276218173186, 0.7209789898510297, 0.7272315864442993, 0.7514659623716541, 0.7636699507389162, 0.7703691613745622, 0.7708053890438602, 0.766230933586563, 0.770228203454211, 0.7630497358893702, 0.7537465131461808, 0.755224345658496, 0.7515787287079352]\n"
          ],
          "name": "stdout"
        }
      ]
    },
    {
      "cell_type": "code",
      "metadata": {
        "id": "N0GeTNZMk2gc",
        "colab_type": "code",
        "colab": {
          "base_uri": "https://localhost:8080/",
          "height": 410
        },
        "outputId": "5e76ee34-e262-421d-ea96-00b7410f77c1"
      },
      "source": [
        "#plot max_depth vs acc_train using max_depth_list and acc_train_list\n",
        "#plot max_depth vs acc_val using max_depth_list and acc_val_list\n",
        "fig, ax = plt.subplots(1,2, figsize=(10,6))\n",
        "ax[0].plot(max_depth_list, acc_train_list, 'b')\n",
        "ax[0].set_xlabel('max_depth')\n",
        "ax[0].set_ylabel('training accuracy')\n",
        "ax[0].set_title('max_depth v.s. training accuracy')\n",
        "ax[0].grid(True)\n",
        "ax[1].plot(max_depth_list, acc_val_list, 'r')\n",
        "ax[1].set_xlabel('max_depth')\n",
        "ax[1].set_ylabel('validation accuracy')\n",
        "ax[1].set_title('max_depth v.s. validation accuracy')\n",
        "ax[1].grid(True)"
      ],
      "execution_count": 117,
      "outputs": [
        {
          "output_type": "display_data",
          "data": {
            "image/png": "[encoded data removed]",
            "text/plain": [
              "<Figure size 720x432 with 2 Axes>"
            ]
          },
          "metadata": {
            "tags": [],
            "needs_background": "light"
          }
        }
      ]
    },
    {
      "cell_type": "code",
      "metadata": {
        "id": "UqAsCLz1k2hH",
        "colab_type": "code",
        "colab": {
          "base_uri": "https://localhost:8080/",
          "height": 33
        },
        "outputId": "437b568d-8d11-4554-fd97-56d59356ebde"
      },
      "source": [
        "#find the best max_depth using np.argmax, max_depth_list and acc_val_list\n",
        "max_depth_best=np.argmax(acc_val_list)\n",
        "max_depth_best"
      ],
      "execution_count": 138,
      "outputs": [
        {
          "output_type": "execute_result",
          "data": {
            "text/plain": [
              "7"
            ]
          },
          "metadata": {
            "tags": []
          },
          "execution_count": 138
        }
      ]
    },
    {
      "cell_type": "code",
      "metadata": {
        "id": "Fn6n63Ajk2hK",
        "colab_type": "code",
        "colab": {
          "base_uri": "https://localhost:8080/",
          "height": 50
        },
        "outputId": "cc231c97-a017-4440-9fdd-345397b5d7a1"
      },
      "source": [
        "#now, we use the best max_depth to build a DecisionTreeClassifier\n",
        "#train it on the training set and evaluate it on the testing set\n",
        "dt=DecisionTreeClassifier(class_weight='balanced', max_depth=max_depth_best, random_state=0)\n",
        "dt.fit(X_train, Y_train)\n",
        "Y_train_pred=dt.predict(X_train)\n",
        "confusion_train=confusion_matrix(Y_train, Y_train_pred)\n",
        "Y_test_pred=dt.predict(X_test)\n",
        "confusion_test=confusion_matrix(Y_test, Y_test_pred)\n",
        "\n",
        "acc_test = balanced_accuracy_score(Y_test, Y_test_pred)\n",
        "acc_val = balanced_accuracy_score(Y_val, Y_val_pred)\n",
        "acc_test = balanced_accuracy_score(Y_test, Y_test_pred)\n",
        "print('classification accuracy on train set is ', acc_train, 'with max_depth:',max_depth_best)\n",
        "print('classification accuracy on test set is ', acc_test,'with max_depth:',max_depth_best)"
      ],
      "execution_count": 139,
      "outputs": [
        {
          "output_type": "stream",
          "text": [
            "classification accuracy on train set is  0.8999863266944885 with max_depth: 7\n",
            "classification accuracy on test set is  0.7702199077690078 with max_depth: 7\n"
          ],
          "name": "stdout"
        }
      ]
    },
    {
      "cell_type": "code",
      "metadata": {
        "id": "D8v7Bxkyk2ho",
        "colab_type": "code",
        "colab": {
          "base_uri": "https://localhost:8080/",
          "height": 285
        },
        "outputId": "35e1b18b-8707-46b3-a276-d3c90759cd97"
      },
      "source": [
        "sns.heatmap(confusion_test.T, square=True, annot=True, fmt='d', cbar=False)\n",
        "plt.xlabel('true label')\n",
        "plt.ylabel('predicted label');"
      ],
      "execution_count": 140,
      "outputs": [
        {
          "output_type": "display_data",
          "data": {
            "image/png": "[encoded data removed]",
            "text/plain": [
              "<Figure size 432x288 with 1 Axes>"
            ]
          },
          "metadata": {
            "tags": [],
            "needs_background": "light"
          }
        }
      ]
    },
    {
      "cell_type": "code",
      "metadata": {
        "id": "H0WFyEqUk2hq",
        "colab_type": "code",
        "colab": {
          "base_uri": "https://localhost:8080/",
          "height": 98
        },
        "outputId": "d4663e89-ccd4-4cf9-ddbd-8048f0d18931"
      },
      "source": [
        "# Model Evaluation and Validation\n",
        "cv = cross_validate(dt, X_test, Y_test, cv=10)\n",
        "print('The performance of each validation fold:')\n",
        "print(cv['test_score'])\n",
        "print('The mean of performance of 10 validation fold:')\n",
        "print(cv['test_score'].mean())"
      ],
      "execution_count": 145,
      "outputs": [
        {
          "output_type": "stream",
          "text": [
            "The performance of each validation fold:\n",
            "[0.73293769 0.7388724  0.76557864 0.6884273  0.77151335 0.74777448\n",
            " 0.7388724  0.74404762 0.76785714 0.75      ]\n",
            "The mean of performance of 10 validation fold:\n",
            "0.7445881023032359\n"
          ],
          "name": "stdout"
        }
      ]
    },
    {
      "cell_type": "code",
      "metadata": {
        "id": "gpUzs45Pk2hu",
        "colab_type": "code",
        "colab": {}
      },
      "source": [
        ""
      ],
      "execution_count": null,
      "outputs": []
    },
    {
      "cell_type": "markdown",
      "metadata": {
        "id": "6bc3dBrIk2hw",
        "colab_type": "text"
      },
      "source": [
        "## Random Forest Classifier"
      ]
    },
    {
      "cell_type": "markdown",
      "metadata": {
        "id": "zLMpRYljk2hy",
        "colab_type": "text"
      },
      "source": [
        "### Fit Model"
      ]
    },
    {
      "cell_type": "code",
      "metadata": {
        "id": "RRp75cgxk2hy",
        "colab_type": "code",
        "colab": {
          "base_uri": "https://localhost:8080/",
          "height": 50
        },
        "outputId": "41c1f20b-e9fd-43ef-b4cb-bb70533be856"
      },
      "source": [
        "#set class_weight='balanced'\n",
        "RF=RandomForestClassifier(n_estimators=20, class_weight='balanced', max_depth=20, random_state=0)\n",
        "RF.fit(X_train, Y_train)\n",
        "Y_val_pred=RF.predict(X_val)\n",
        "confusion_val=confusion_matrix(Y_val, Y_val_pred)\n",
        "\n",
        "Y_test_pred=RF.predict(X_test)\n",
        "confusion_test=confusion_matrix(Y_test, Y_test_pred)\n",
        "\n",
        "acc_test = balanced_accuracy_score(Y_test, Y_test_pred)\n",
        "acc_val = balanced_accuracy_score(Y_val, Y_val_pred)\n",
        "acc_test = balanced_accuracy_score(Y_test, Y_test_pred)\n",
        "print('classification accuracy on validation set is ', acc_val)\n",
        "print('classification accuracy on test set is ', acc_test)"
      ],
      "execution_count": 122,
      "outputs": [
        {
          "output_type": "stream",
          "text": [
            "classification accuracy on validation set is  0.7403035788474093\n",
            "classification accuracy on test set is  0.7330108278162311\n"
          ],
          "name": "stdout"
        }
      ]
    },
    {
      "cell_type": "code",
      "metadata": {
        "id": "j7nD2itSk2h0",
        "colab_type": "code",
        "colab": {
          "base_uri": "https://localhost:8080/",
          "height": 472
        },
        "outputId": "0a186c9d-434b-4a91-b537-9641cb5932ac"
      },
      "source": [
        "#train a RandomForestClassifier with max_depth in max_depth_list\n",
        "#inside a for loop: \n",
        "#   create a model with a max_depth in max_depth_list\n",
        "#   set class_weight to 'balanced', n_estimators=20\n",
        "#   set random_state=0 so that the result is reproducible\n",
        "#   train the model on the training set\n",
        "#   record the accuracy on the training set into a list acc_train_list\n",
        "#   record the accuracy on the validation set into a list acc_val_list\n",
        "acc_train_list=[]\n",
        "acc_val_list=[]\n",
        "for i in max_depth_list:\n",
        "    RF=RandomForestClassifier(n_estimators=20, class_weight='balanced', max_depth=i, random_state=0)\n",
        "    RF.fit(X_train, Y_train)\n",
        "    Y_val_pred=RF.predict(X_val)\n",
        "    confusion_val=confusion_matrix(Y_val, Y_val_pred)\n",
        "    Y_train_pred=RF.predict(X_train)\n",
        "    confusion_train=confusion_matrix(Y_train, Y_train_pred)\n",
        "    acc_test = balanced_accuracy_score(Y_test, Y_test_pred)\n",
        "    acc_val = balanced_accuracy_score(Y_val, Y_val_pred)\n",
        "    acc_test = balanced_accuracy_score(Y_test, Y_test_pred)\n",
        "    acc_train_list.append(acc_train)\n",
        "    acc_val_list.append(acc_val)\n",
        "    print('classification accuracy on validation set is ', acc_val, 'with max_depth:',i)\n",
        "    print('classification accuracy on train set is ', acc_train,'with max_depth:',i)"
      ],
      "execution_count": 123,
      "outputs": [
        {
          "output_type": "stream",
          "text": [
            "classification accuracy on validation set is  0.7247240192296278 with max_depth: 1\n",
            "classification accuracy on train set is  0.734562873840332 with max_depth: 1\n",
            "classification accuracy on validation set is  0.7348581518190991 with max_depth: 2\n",
            "classification accuracy on train set is  0.7512406706809998 with max_depth: 2\n",
            "classification accuracy on validation set is  0.7303682711140127 with max_depth: 3\n",
            "classification accuracy on train set is  0.7557767629623413 with max_depth: 3\n",
            "classification accuracy on validation set is  0.753535818149445 with max_depth: 4\n",
            "classification accuracy on train set is  0.7691641449928284 with max_depth: 4\n",
            "classification accuracy on validation set is  0.7637960709834412 with max_depth: 5\n",
            "classification accuracy on train set is  0.7773782014846802 with max_depth: 5\n",
            "classification accuracy on validation set is  0.7731838684788415 with max_depth: 6\n",
            "classification accuracy on train set is  0.7875620126724243 with max_depth: 6\n",
            "classification accuracy on validation set is  0.7703127782064217 with max_depth: 7\n",
            "classification accuracy on train set is  0.7938679456710815 with max_depth: 7\n",
            "classification accuracy on validation set is  0.7843032227431895 with max_depth: 8\n",
            "classification accuracy on train set is  0.8047361373901367 with max_depth: 8\n",
            "classification accuracy on validation set is  0.7757596890023146 with max_depth: 9\n",
            "classification accuracy on train set is  0.8120649456977844 with max_depth: 9\n",
            "classification accuracy on validation set is  0.7682013769363167 with max_depth: 10\n",
            "classification accuracy on train set is  0.8256573677062988 with max_depth: 10\n",
            "classification accuracy on validation set is  0.7741690901537184 with max_depth: 11\n",
            "classification accuracy on train set is  0.8433235287666321 with max_depth: 11\n",
            "classification accuracy on validation set is  0.7698899044453676 with max_depth: 12\n",
            "classification accuracy on train set is  0.8617684245109558 with max_depth: 12\n",
            "classification accuracy on validation set is  0.7698617128612975 with max_depth: 13\n",
            "classification accuracy on train set is  0.8786719441413879 with max_depth: 13\n",
            "classification accuracy on validation set is  0.7652308742358598 with max_depth: 14\n",
            "classification accuracy on train set is  0.8999863266944885 with max_depth: 14\n"
          ],
          "name": "stdout"
        }
      ]
    },
    {
      "cell_type": "code",
      "metadata": {
        "id": "abLUb9Frk2h-",
        "colab_type": "code",
        "colab": {
          "base_uri": "https://localhost:8080/",
          "height": 410
        },
        "outputId": "77fb4db7-efe3-4e54-dac0-6f100fd2d1da"
      },
      "source": [
        "#plot max_depth vs acc_train using max_depth_list and acc_train_list\n",
        "#plot max_depth vs acc_val using max_depth_list and acc_val_list\n",
        "fig, ax = plt.subplots(1,2, figsize=(10,6))\n",
        "ax[0].plot(max_depth_list, acc_train_list, 'b')\n",
        "ax[0].set_xlabel('max_depth')\n",
        "ax[0].set_ylabel('training accuracy')\n",
        "ax[0].set_title('max_depth v.s. training accuracy')\n",
        "ax[0].grid(True)\n",
        "ax[1].plot(max_depth_list, acc_val_list, 'r')\n",
        "ax[1].set_xlabel('max_depth')\n",
        "ax[1].set_ylabel('validation accuracy')\n",
        "ax[1].set_title('max_depth v.s. validation accuracy')\n",
        "ax[1].grid(True)"
      ],
      "execution_count": 124,
      "outputs": [
        {
          "output_type": "display_data",
          "data": {
            "image/png": "[encoded data removed]",
            "text/plain": [
              "<Figure size 720x432 with 2 Axes>"
            ]
          },
          "metadata": {
            "tags": [],
            "needs_background": "light"
          }
        }
      ]
    },
    {
      "cell_type": "code",
      "metadata": {
        "id": "dkr7izxXk2iB",
        "colab_type": "code",
        "colab": {
          "base_uri": "https://localhost:8080/",
          "height": 33
        },
        "outputId": "b2296790-5c29-44b5-c5b9-dfb8b3c19941"
      },
      "source": [
        "#find the best max_depth using np.argmax, max_depth_list and acc_val_list\n",
        "max_depth_best=np.argmax(acc_val_list)\n",
        "max_depth_best"
      ],
      "execution_count": 125,
      "outputs": [
        {
          "output_type": "execute_result",
          "data": {
            "text/plain": [
              "7"
            ]
          },
          "metadata": {
            "tags": []
          },
          "execution_count": 125
        }
      ]
    },
    {
      "cell_type": "code",
      "metadata": {
        "id": "yJwPpwIJk2iG",
        "colab_type": "code",
        "colab": {
          "base_uri": "https://localhost:8080/",
          "height": 50
        },
        "outputId": "66bc1449-fd93-46e8-d8c8-43a98c75748b"
      },
      "source": [
        "#now, we use the best max_depth to build a RandomForestClassifier\n",
        "#train it on the training set and evaluate it on the testing set\n",
        "RF=RandomForestClassifier(n_estimators=20, class_weight='balanced', max_depth=i, random_state=0)\n",
        "RF.fit(X_train, Y_train)\n",
        "Y_train_pred=RF.predict(X_train)\n",
        "confusion_train=confusion_matrix(Y_train, Y_train_pred)\n",
        "\n",
        "Y_test_pred=RF.predict(X_test)\n",
        "confusion_test=confusion_matrix(Y_test, Y_test_pred)\n",
        "\n",
        "acc_test = balanced_accuracy_score(Y_test, Y_test_pred)\n",
        "acc_val = balanced_accuracy_score(Y_val, Y_val_pred)\n",
        "acc_test = balanced_accuracy_score(Y_test, Y_test_pred)\n",
        "\n",
        "\n",
        "print('classification accuracy on train set is ', acc_train, 'with max_depth:',max_depth_best)\n",
        "print('classification accuracy on test set is ', acc_test,'with max_depth:',max_depth_best)"
      ],
      "execution_count": 130,
      "outputs": [
        {
          "output_type": "stream",
          "text": [
            "classification accuracy on train set is  0.8999863266944885 with max_depth: 7\n",
            "classification accuracy on test set is  0.7625707566595756 with max_depth: 7\n"
          ],
          "name": "stdout"
        }
      ]
    },
    {
      "cell_type": "markdown",
      "metadata": {
        "id": "GWhcC-Fv9dqI",
        "colab_type": "text"
      },
      "source": [
        "Model Evaluation and Validation for Random Forest model\n",
        "\n",
        "Set a fold of 10, and using cross validation to check the performance on test dataset of final model. Here we can tell the average test scores are quite stable"
      ]
    },
    {
      "cell_type": "code",
      "metadata": {
        "id": "7zSYdKX39Fwx",
        "colab_type": "code",
        "colab": {
          "base_uri": "https://localhost:8080/",
          "height": 98
        },
        "outputId": "4208ee6f-953a-4921-aee1-f2cbf0f992bf"
      },
      "source": [
        "\n",
        "cv = cross_validate(RF, X_test, Y_test, cv=10)\n",
        "print('The performance of each validation fold:')\n",
        "print(cv['test_score'])\n",
        "print('The mean of performance of 10 validation fold:')\n",
        "print(cv['test_score'].mean())"
      ],
      "execution_count": 146,
      "outputs": [
        {
          "output_type": "stream",
          "text": [
            "The performance of each validation fold:\n",
            "[0.78931751 0.82492582 0.81602374 0.78931751 0.82789318 0.82492582\n",
            " 0.83086053 0.7827381  0.83035714 0.82142857]\n",
            "The mean of performance of 10 validation fold:\n",
            "0.81377879044793\n"
          ],
          "name": "stdout"
        }
      ]
    },
    {
      "cell_type": "code",
      "metadata": {
        "id": "2cwWtnRpk2iI",
        "colab_type": "code",
        "colab": {
          "base_uri": "https://localhost:8080/",
          "height": 285
        },
        "outputId": "419ec200-5e85-4bdd-ecb4-cc85bd8b2891"
      },
      "source": [
        "sns.heatmap(confusion_test.T, square=True, annot=True, fmt='d', cbar=False)\n",
        "plt.xlabel('true label')\n",
        "plt.ylabel('predicted label');"
      ],
      "execution_count": 128,
      "outputs": [
        {
          "output_type": "display_data",
          "data": {
            "image/png": "[encoded data removed]",
            "text/plain": [
              "<Figure size 432x288 with 1 Axes>"
            ]
          },
          "metadata": {
            "tags": [],
            "needs_background": "light"
          }
        }
      ]
    },
    {
      "cell_type": "code",
      "metadata": {
        "id": "npT3VGp7k2iL",
        "colab_type": "code",
        "colab": {
          "base_uri": "https://localhost:8080/",
          "height": 283
        },
        "outputId": "17c78625-4796-45bc-a2c9-c6c89e090315"
      },
      "source": [
        "# Using the feature importance plot to predict the data\n",
        "feat_importances = pd.Series(RF.feature_importances_, index=X.columns)\n",
        "feat_importances.nlargest(8).plot(kind='barh')"
      ],
      "execution_count": 129,
      "outputs": [
        {
          "output_type": "execute_result",
          "data": {
            "text/plain": [
              "<matplotlib.axes._subplots.AxesSubplot at 0x7fca53d2ab70>"
            ]
          },
          "metadata": {
            "tags": []
          },
          "execution_count": 129
        },
        {
          "output_type": "display_data",
          "data": {
            "image/png": "[encoded data removed]",
            "text/plain": [
              "<Figure size 432x288 with 1 Axes>"
            ]
          },
          "metadata": {
            "tags": [],
            "needs_background": "light"
          }
        }
      ]
    },
    {
      "cell_type": "markdown",
      "metadata": {
        "id": "iiHZfCVVB1Di",
        "colab_type": "text"
      },
      "source": [
        "## Model Evaluation and Validation\n",
        "After fitting three models, we need to check final model’s qualities to validate the robustness of the model’s solution.\n",
        "The approach that I have taken here to demonstrate that your tuned model is robust is performing a k-fold cross validation. Here the k = 10 fold.\n",
        "\n",
        "In this case, I have document how the model performs across each individual validation fold, and then take a mean of each performance across 10 folds.\n",
        "\n",
        "Though the decision tree has the best performance in the individual test result, the performance among cross validation seems unstable, and even lower than the result of random forest. In the mean time, the random forest has relatively stable performance, with accuracy rate of 0.81 across validation.\n",
        "\n",
        "### Logistic Regression\n",
        "classification accuracy on test set:\n",
        "0.7499983310699463 \n",
        "\n",
        "The performance of each validation fold:\n",
        "[0.75074184 0.71810089 0.74480712 0.72403561 0.7537092 0.73293769 0.7537092 0.7172619 0.74702381 0.76785714]\n",
        "\n",
        "The mean of performance of 10 validation fold:\n",
        "0.7410184400169564\n",
        "### Random Forest\n",
        "classification accuracy on test set is\n",
        "0.7623733282089233 with max_depth: 7\n",
        "\n",
        "The performance of each validation fold:\n",
        "[0.78931751 0.82492582 0.81602374 0.78931751 0.82789318 0.82492582 0.83086053 0.7827381 0.83035714 0.82142857]\n",
        "\n",
        "The mean of performance of 10 validation fold:\n",
        "0.81377879044793\n",
        "### Decision Tree\n",
        "classification accuracy on test set is :\n",
        "0.7702199220657349 with max_depth: 7\n",
        "\n",
        "The performance of each validation fold:\n",
        "[0.73293769 0.7388724 0.76557864 0.6884273 0.77151335 0.74777448 0.7388724 0.74404762 0.76785714 0.75 ]\n",
        "\n",
        "The mean of performance of 10 validation fold:\n",
        "0.7445881023032359"
      ]
    },
    {
      "cell_type": "markdown",
      "metadata": {
        "id": "YpmS_0imk2iN",
        "colab_type": "text"
      },
      "source": [
        "# Final Model\n",
        "\n",
        "After comparing the weighted classification accuracy rate and the result of cross validation, here I choose random forest as our final model with performance of accuracy rate around 0.76 and cross validation result around 0.81\n",
        "\n"
      ]
    },
    {
      "cell_type": "markdown",
      "metadata": {
        "id": "SiIkU5kMk2iO",
        "colab_type": "text"
      },
      "source": [
        "#  Future improvements\n",
        "\n",
        "In the future, there are some ways to improve the models.\n",
        "\n",
        "First, currently I am using the classical supervised machine learning model. Some advanced models could be good supervised learning approaches to try here, such as XGBoost and LightGBM models. Additionally, some deep learning models can also good options.\n",
        "\n",
        "Second, currently I am comparing the individual performance of three models. I could also try combining them all together into a custom ensemble model.\n",
        "\n",
        "Third, currently I am only tuning one parameter for each model, and in the future I will use grid search to tune the portfolio of different parameter."
      ]
    },
    {
      "cell_type": "code",
      "metadata": {
        "id": "ulBCv6Qok2iO",
        "colab_type": "code",
        "colab": {}
      },
      "source": [
        ""
      ],
      "execution_count": null,
      "outputs": []
    },
    {
      "cell_type": "code",
      "metadata": {
        "id": "GlJjNFlBk2iU",
        "colab_type": "code",
        "colab": {}
      },
      "source": [
        ""
      ],
      "execution_count": null,
      "outputs": []
    },
    {
      "cell_type": "code",
      "metadata": {
        "id": "CSSTGcNlk2iW",
        "colab_type": "code",
        "colab": {}
      },
      "source": [
        ""
      ],
      "execution_count": null,
      "outputs": []
    },
    {
      "cell_type": "code",
      "metadata": {
        "id": "NRPT1EgSk2ie",
        "colab_type": "code",
        "colab": {}
      },
      "source": [
        ""
      ],
      "execution_count": null,
      "outputs": []
    },
    {
      "cell_type": "code",
      "metadata": {
        "id": "N0pRbVGQk2ij",
        "colab_type": "code",
        "colab": {}
      },
      "source": [
        ""
      ],
      "execution_count": null,
      "outputs": []
    },
    {
      "cell_type": "code",
      "metadata": {
        "id": "37lKFErkk2im",
        "colab_type": "code",
        "colab": {}
      },
      "source": [
        ""
      ],
      "execution_count": null,
      "outputs": []
    },
    {
      "cell_type": "code",
      "metadata": {
        "id": "vrVcOSank2ir",
        "colab_type": "code",
        "colab": {}
      },
      "source": [
        ""
      ],
      "execution_count": null,
      "outputs": []
    },
    {
      "cell_type": "code",
      "metadata": {
        "id": "upNjoDJtk2iu",
        "colab_type": "code",
        "colab": {}
      },
      "source": [
        ""
      ],
      "execution_count": null,
      "outputs": []
    },
    {
      "cell_type": "code",
      "metadata": {
        "id": "BatzSt0tk2iw",
        "colab_type": "code",
        "colab": {}
      },
      "source": [
        ""
      ],
      "execution_count": null,
      "outputs": []
    },
    {
      "cell_type": "code",
      "metadata": {
        "id": "sK3KMPKdk2iy",
        "colab_type": "code",
        "colab": {}
      },
      "source": [
        ""
      ],
      "execution_count": null,
      "outputs": []
    },
    {
      "cell_type": "code",
      "metadata": {
        "id": "h0h3hntXk2i1",
        "colab_type": "code",
        "colab": {}
      },
      "source": [
        ""
      ],
      "execution_count": null,
      "outputs": []
    },
    {
      "cell_type": "code",
      "metadata": {
        "id": "1B7QR7XDk2i3",
        "colab_type": "code",
        "colab": {}
      },
      "source": [
        ""
      ],
      "execution_count": null,
      "outputs": []
    },
    {
      "cell_type": "code",
      "metadata": {
        "id": "OSfRfBwNk2i5",
        "colab_type": "code",
        "colab": {}
      },
      "source": [
        ""
      ],
      "execution_count": null,
      "outputs": []
    },
    {
      "cell_type": "code",
      "metadata": {
        "id": "ia_b7xzwk2i8",
        "colab_type": "code",
        "colab": {}
      },
      "source": [
        ""
      ],
      "execution_count": null,
      "outputs": []
    },
    {
      "cell_type": "code",
      "metadata": {
        "id": "BgBZi4nVk2i9",
        "colab_type": "code",
        "colab": {}
      },
      "source": [
        ""
      ],
      "execution_count": null,
      "outputs": []
    },
    {
      "cell_type": "code",
      "metadata": {
        "id": "eantSO83k2i-",
        "colab_type": "code",
        "colab": {}
      },
      "source": [
        ""
      ],
      "execution_count": null,
      "outputs": []
    },
    {
      "cell_type": "code",
      "metadata": {
        "id": "bMMPu6KEk2jC",
        "colab_type": "code",
        "colab": {}
      },
      "source": [
        ""
      ],
      "execution_count": null,
      "outputs": []
    },
    {
      "cell_type": "code",
      "metadata": {
        "id": "qxL8dXWuk2jH",
        "colab_type": "code",
        "colab": {}
      },
      "source": [
        ""
      ],
      "execution_count": null,
      "outputs": []
    },
    {
      "cell_type": "code",
      "metadata": {
        "id": "hB3U5gZKk2jL",
        "colab_type": "code",
        "colab": {}
      },
      "source": [
        ""
      ],
      "execution_count": null,
      "outputs": []
    },
    {
      "cell_type": "code",
      "metadata": {
        "id": "w8fOVxkVk2jN",
        "colab_type": "code",
        "colab": {}
      },
      "source": [
        ""
      ],
      "execution_count": null,
      "outputs": []
    },
    {
      "cell_type": "code",
      "metadata": {
        "id": "C3GL0BWRk2jQ",
        "colab_type": "code",
        "colab": {}
      },
      "source": [
        ""
      ],
      "execution_count": null,
      "outputs": []
    },
    {
      "cell_type": "code",
      "metadata": {
        "id": "b33StiBQk2jS",
        "colab_type": "code",
        "colab": {}
      },
      "source": [
        ""
      ],
      "execution_count": null,
      "outputs": []
    },
    {
      "cell_type": "code",
      "metadata": {
        "id": "myEOkdQMk2jT",
        "colab_type": "code",
        "colab": {}
      },
      "source": [
        ""
      ],
      "execution_count": null,
      "outputs": []
    },
    {
      "cell_type": "code",
      "metadata": {
        "id": "oN3FbnIhk2jU",
        "colab_type": "code",
        "colab": {}
      },
      "source": [
        ""
      ],
      "execution_count": null,
      "outputs": []
    },
    {
      "cell_type": "code",
      "metadata": {
        "id": "1nFO2NnCk2jZ",
        "colab_type": "code",
        "colab": {}
      },
      "source": [
        ""
      ],
      "execution_count": null,
      "outputs": []
    },
    {
      "cell_type": "code",
      "metadata": {
        "id": "M0Ua6-bKk2jc",
        "colab_type": "code",
        "colab": {}
      },
      "source": [
        ""
      ],
      "execution_count": null,
      "outputs": []
    },
    {
      "cell_type": "code",
      "metadata": {
        "id": "TiYhr0odk2jd",
        "colab_type": "code",
        "colab": {}
      },
      "source": [
        ""
      ],
      "execution_count": null,
      "outputs": []
    },
    {
      "cell_type": "code",
      "metadata": {
        "id": "viOO927zk2jf",
        "colab_type": "code",
        "colab": {}
      },
      "source": [
        ""
      ],
      "execution_count": null,
      "outputs": []
    },
    {
      "cell_type": "code",
      "metadata": {
        "id": "HpQrAmq7k2jg",
        "colab_type": "code",
        "colab": {}
      },
      "source": [
        ""
      ],
      "execution_count": null,
      "outputs": []
    },
    {
      "cell_type": "code",
      "metadata": {
        "id": "S39cODK6k2jj",
        "colab_type": "code",
        "colab": {}
      },
      "source": [
        ""
      ],
      "execution_count": null,
      "outputs": []
    },
    {
      "cell_type": "code",
      "metadata": {
        "id": "iA14wEpek2jr",
        "colab_type": "code",
        "colab": {}
      },
      "source": [
        ""
      ],
      "execution_count": null,
      "outputs": []
    },
    {
      "cell_type": "code",
      "metadata": {
        "id": "okNXr5iak2jt",
        "colab_type": "code",
        "colab": {}
      },
      "source": [
        ""
      ],
      "execution_count": null,
      "outputs": []
    },
    {
      "cell_type": "code",
      "metadata": {
        "id": "g6QlteOnk2jx",
        "colab_type": "code",
        "colab": {}
      },
      "source": [
        ""
      ],
      "execution_count": null,
      "outputs": []
    },
    {
      "cell_type": "code",
      "metadata": {
        "id": "fDY7C4lpk2j1",
        "colab_type": "code",
        "colab": {}
      },
      "source": [
        ""
      ],
      "execution_count": null,
      "outputs": []
    },
    {
      "cell_type": "code",
      "metadata": {
        "id": "rNXT3N6Vk2j2",
        "colab_type": "code",
        "colab": {}
      },
      "source": [
        ""
      ],
      "execution_count": null,
      "outputs": []
    },
    {
      "cell_type": "code",
      "metadata": {
        "id": "DOaAVRvHk2j4",
        "colab_type": "code",
        "colab": {}
      },
      "source": [
        ""
      ],
      "execution_count": null,
      "outputs": []
    },
    {
      "cell_type": "code",
      "metadata": {
        "id": "1KEhkFLHk2j5",
        "colab_type": "code",
        "colab": {}
      },
      "source": [
        ""
      ],
      "execution_count": null,
      "outputs": []
    },
    {
      "cell_type": "code",
      "metadata": {
        "id": "w6_qbUnnk2j6",
        "colab_type": "code",
        "colab": {}
      },
      "source": [
        ""
      ],
      "execution_count": null,
      "outputs": []
    },
    {
      "cell_type": "code",
      "metadata": {
        "id": "uDuGLLSsk2j7",
        "colab_type": "code",
        "colab": {}
      },
      "source": [
        ""
      ],
      "execution_count": null,
      "outputs": []
    },
    {
      "cell_type": "code",
      "metadata": {
        "id": "_sVMiFBbk2j9",
        "colab_type": "code",
        "colab": {}
      },
      "source": [
        ""
      ],
      "execution_count": null,
      "outputs": []
    },
    {
      "cell_type": "code",
      "metadata": {
        "id": "37hYBkdgk2j-",
        "colab_type": "code",
        "colab": {}
      },
      "source": [
        ""
      ],
      "execution_count": null,
      "outputs": []
    },
    {
      "cell_type": "code",
      "metadata": {
        "id": "ew__wG2Gk2j_",
        "colab_type": "code",
        "colab": {}
      },
      "source": [
        ""
      ],
      "execution_count": null,
      "outputs": []
    },
    {
      "cell_type": "code",
      "metadata": {
        "id": "HpS2gL08k2kB",
        "colab_type": "code",
        "colab": {}
      },
      "source": [
        ""
      ],
      "execution_count": null,
      "outputs": []
    },
    {
      "cell_type": "code",
      "metadata": {
        "id": "NLUllwfKk2kC",
        "colab_type": "code",
        "colab": {}
      },
      "source": [
        ""
      ],
      "execution_count": null,
      "outputs": []
    },
    {
      "cell_type": "code",
      "metadata": {
        "id": "U6Nam2Zsk2kD",
        "colab_type": "code",
        "colab": {}
      },
      "source": [
        ""
      ],
      "execution_count": null,
      "outputs": []
    },
    {
      "cell_type": "code",
      "metadata": {
        "id": "xUaySVl3k2kE",
        "colab_type": "code",
        "colab": {}
      },
      "source": [
        ""
      ],
      "execution_count": null,
      "outputs": []
    },
    {
      "cell_type": "code",
      "metadata": {
        "id": "tnttBToOk2kF",
        "colab_type": "code",
        "colab": {}
      },
      "source": [
        ""
      ],
      "execution_count": null,
      "outputs": []
    },
    {
      "cell_type": "code",
      "metadata": {
        "id": "-ujd8tWHk2kH",
        "colab_type": "code",
        "colab": {}
      },
      "source": [
        ""
      ],
      "execution_count": null,
      "outputs": []
    },
    {
      "cell_type": "code",
      "metadata": {
        "id": "-fWsP8zbk2kK",
        "colab_type": "code",
        "colab": {}
      },
      "source": [
        ""
      ],
      "execution_count": null,
      "outputs": []
    },
    {
      "cell_type": "code",
      "metadata": {
        "id": "vRSeVdCyk2kM",
        "colab_type": "code",
        "colab": {}
      },
      "source": [
        ""
      ],
      "execution_count": null,
      "outputs": []
    },
    {
      "cell_type": "code",
      "metadata": {
        "id": "sWiSZBj_k2kO",
        "colab_type": "code",
        "colab": {}
      },
      "source": [
        ""
      ],
      "execution_count": null,
      "outputs": []
    },
    {
      "cell_type": "code",
      "metadata": {
        "id": "NqwzJGjFk2kR",
        "colab_type": "code",
        "colab": {}
      },
      "source": [
        ""
      ],
      "execution_count": null,
      "outputs": []
    },
    {
      "cell_type": "code",
      "metadata": {
        "id": "F_6rAaMxk2kS",
        "colab_type": "code",
        "colab": {}
      },
      "source": [
        ""
      ],
      "execution_count": null,
      "outputs": []
    },
    {
      "cell_type": "code",
      "metadata": {
        "id": "xeHoRWp6k2kU",
        "colab_type": "code",
        "colab": {}
      },
      "source": [
        ""
      ],
      "execution_count": null,
      "outputs": []
    },
    {
      "cell_type": "code",
      "metadata": {
        "id": "Vc4_01Vyk2kV",
        "colab_type": "code",
        "colab": {}
      },
      "source": [
        ""
      ],
      "execution_count": null,
      "outputs": []
    },
    {
      "cell_type": "code",
      "metadata": {
        "id": "ZEMTXRLuk2kX",
        "colab_type": "code",
        "colab": {}
      },
      "source": [
        ""
      ],
      "execution_count": null,
      "outputs": []
    },
    {
      "cell_type": "code",
      "metadata": {
        "id": "ijrqTeObk2kY",
        "colab_type": "code",
        "colab": {}
      },
      "source": [
        ""
      ],
      "execution_count": null,
      "outputs": []
    },
    {
      "cell_type": "code",
      "metadata": {
        "id": "S3Wf_8VUk2ka",
        "colab_type": "code",
        "colab": {}
      },
      "source": [
        ""
      ],
      "execution_count": null,
      "outputs": []
    },
    {
      "cell_type": "code",
      "metadata": {
        "id": "P93VqUG4k2kc",
        "colab_type": "code",
        "colab": {}
      },
      "source": [
        ""
      ],
      "execution_count": null,
      "outputs": []
    },
    {
      "cell_type": "code",
      "metadata": {
        "id": "nGlzSd9jk2kf",
        "colab_type": "code",
        "colab": {}
      },
      "source": [
        ""
      ],
      "execution_count": null,
      "outputs": []
    },
    {
      "cell_type": "code",
      "metadata": {
        "id": "TgcMl3OOk2kg",
        "colab_type": "code",
        "colab": {}
      },
      "source": [
        ""
      ],
      "execution_count": null,
      "outputs": []
    },
    {
      "cell_type": "code",
      "metadata": {
        "id": "fH45IQUqk2ki",
        "colab_type": "code",
        "colab": {}
      },
      "source": [
        ""
      ],
      "execution_count": null,
      "outputs": []
    },
    {
      "cell_type": "code",
      "metadata": {
        "id": "VE3Ge7bnk2kl",
        "colab_type": "code",
        "colab": {}
      },
      "source": [
        ""
      ],
      "execution_count": null,
      "outputs": []
    },
    {
      "cell_type": "code",
      "metadata": {
        "id": "Ay-rKgkWk2km",
        "colab_type": "code",
        "colab": {}
      },
      "source": [
        ""
      ],
      "execution_count": null,
      "outputs": []
    },
    {
      "cell_type": "code",
      "metadata": {
        "id": "Wz_72yCGk2ko",
        "colab_type": "code",
        "colab": {}
      },
      "source": [
        ""
      ],
      "execution_count": null,
      "outputs": []
    },
    {
      "cell_type": "code",
      "metadata": {
        "id": "iFunrKndk2ks",
        "colab_type": "code",
        "colab": {}
      },
      "source": [
        ""
      ],
      "execution_count": null,
      "outputs": []
    },
    {
      "cell_type": "code",
      "metadata": {
        "id": "F0j8_uWWk2kv",
        "colab_type": "code",
        "colab": {}
      },
      "source": [
        ""
      ],
      "execution_count": null,
      "outputs": []
    },
    {
      "cell_type": "code",
      "metadata": {
        "id": "N6DI34ZQk2kz",
        "colab_type": "code",
        "colab": {}
      },
      "source": [
        ""
      ],
      "execution_count": null,
      "outputs": []
    },
    {
      "cell_type": "code",
      "metadata": {
        "id": "3hdBS79nk2k3",
        "colab_type": "code",
        "colab": {}
      },
      "source": [
        ""
      ],
      "execution_count": null,
      "outputs": []
    },
    {
      "cell_type": "code",
      "metadata": {
        "id": "WDWWGoKGk2k-",
        "colab_type": "code",
        "colab": {}
      },
      "source": [
        ""
      ],
      "execution_count": null,
      "outputs": []
    },
    {
      "cell_type": "code",
      "metadata": {
        "id": "LSqIpChSk2lC",
        "colab_type": "code",
        "colab": {}
      },
      "source": [
        ""
      ],
      "execution_count": null,
      "outputs": []
    },
    {
      "cell_type": "code",
      "metadata": {
        "id": "TIGE62Mvk2lH",
        "colab_type": "code",
        "colab": {}
      },
      "source": [
        ""
      ],
      "execution_count": null,
      "outputs": []
    },
    {
      "cell_type": "code",
      "metadata": {
        "id": "rqzsJqaak2lI",
        "colab_type": "code",
        "colab": {}
      },
      "source": [
        ""
      ],
      "execution_count": null,
      "outputs": []
    },
    {
      "cell_type": "code",
      "metadata": {
        "id": "o2Dk3pyyk2lI",
        "colab_type": "code",
        "colab": {}
      },
      "source": [
        ""
      ],
      "execution_count": null,
      "outputs": []
    },
    {
      "cell_type": "code",
      "metadata": {
        "id": "siwbAzoRk2lK",
        "colab_type": "code",
        "colab": {}
      },
      "source": [
        ""
      ],
      "execution_count": null,
      "outputs": []
    },
    {
      "cell_type": "code",
      "metadata": {
        "id": "_t2UIoYQk2lP",
        "colab_type": "code",
        "colab": {}
      },
      "source": [
        ""
      ],
      "execution_count": null,
      "outputs": []
    },
    {
      "cell_type": "code",
      "metadata": {
        "id": "sWCZPDQPk2lT",
        "colab_type": "code",
        "colab": {}
      },
      "source": [
        ""
      ],
      "execution_count": null,
      "outputs": []
    },
    {
      "cell_type": "code",
      "metadata": {
        "id": "DnMqErr4k2lV",
        "colab_type": "code",
        "colab": {}
      },
      "source": [
        ""
      ],
      "execution_count": null,
      "outputs": []
    },
    {
      "cell_type": "code",
      "metadata": {
        "scrolled": true,
        "id": "RyBKlJzIk2la",
        "colab_type": "code",
        "colab": {}
      },
      "source": [
        ""
      ],
      "execution_count": null,
      "outputs": []
    },
    {
      "cell_type": "code",
      "metadata": {
        "id": "xgg3MzFvk2ld",
        "colab_type": "code",
        "colab": {}
      },
      "source": [
        ""
      ],
      "execution_count": null,
      "outputs": []
    },
    {
      "cell_type": "code",
      "metadata": {
        "id": "j9JEtL3Gk2lf",
        "colab_type": "code",
        "colab": {}
      },
      "source": [
        ""
      ],
      "execution_count": null,
      "outputs": []
    },
    {
      "cell_type": "code",
      "metadata": {
        "id": "dAZE0G-uk2ll",
        "colab_type": "code",
        "colab": {}
      },
      "source": [
        ""
      ],
      "execution_count": null,
      "outputs": []
    },
    {
      "cell_type": "code",
      "metadata": {
        "id": "wSF6z_bTk2ln",
        "colab_type": "code",
        "colab": {}
      },
      "source": [
        ""
      ],
      "execution_count": null,
      "outputs": []
    },
    {
      "cell_type": "code",
      "metadata": {
        "id": "H64U5jDqk2lp",
        "colab_type": "code",
        "colab": {}
      },
      "source": [
        ""
      ],
      "execution_count": null,
      "outputs": []
    },
    {
      "cell_type": "code",
      "metadata": {
        "id": "aK3uzIXKk2lr",
        "colab_type": "code",
        "colab": {}
      },
      "source": [
        ""
      ],
      "execution_count": null,
      "outputs": []
    },
    {
      "cell_type": "code",
      "metadata": {
        "id": "b-bx0agCk2lr",
        "colab_type": "code",
        "colab": {}
      },
      "source": [
        ""
      ],
      "execution_count": null,
      "outputs": []
    },
    {
      "cell_type": "code",
      "metadata": {
        "id": "TN4ZfiyAk2lu",
        "colab_type": "code",
        "colab": {}
      },
      "source": [
        ""
      ],
      "execution_count": null,
      "outputs": []
    }
  ]
}